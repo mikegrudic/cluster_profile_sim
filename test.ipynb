{
 "cells": [
  {
   "cell_type": "code",
   "execution_count": 10,
   "metadata": {},
   "outputs": [
    {
     "name": "stdout",
     "output_type": "stream",
     "text": [
      "4.394797300693788 3.872983346207417\n"
     ]
    },
    {
     "data": {
      "text/plain": [
       "<Figure size 432x288 with 0 Axes>"
      ]
     },
     "metadata": {},
     "output_type": "display_data"
    },
    {
     "data": {
      "image/png": "[encoded data removed]",
      "text/plain": [
       "<Figure size 432x432 with 1 Axes>"
      ]
     },
     "metadata": {
      "needs_background": "light"
     },
     "output_type": "display_data"
    }
   ],
   "source": [
    "import streamlit as st\n",
    "import pandas as pd\n",
    "import numpy as np\n",
    "import bokeh.plotting as bk\n",
    "from scipy.integrate import cumtrapz\n",
    "from bokeh.models import Range1d\n",
    "import matplotlib.pyplot as plt\n",
    "import emcee\n",
    "from multiprocessing import Pool\n",
    "from scipy.optimize import minimize\n",
    "\n",
    "plt.clf()\n",
    "\n",
    "gamma = 2.5 # st.sidebar.slider(r'Slope $\\gamma$',2.01,max_value=5., value=2.5)\n",
    "mu_max = norm = 2*np.pi/(gamma - 2)\n",
    "background = 1e-1 * mu_max #10**st.sidebar.slider(r'$\\log$ background',-3.,max_value=0., value=-1.) * mu_max\n",
    "N = 10**5 # int(10**st.sidebar.slider(r'$\\log$ N',min_value=1.,max_value=6., value=4.))\n",
    "aperture = 100 #st.sidebar.slider(r'Aperture',0.,max_value=100., value=100.)\n",
    "\n",
    "show_model = True #st.sidebar.checkbox(\"Show Model\",True)\n",
    "seed = 43 #st.sidebar.number_input(\"Seed\",42)\n",
    "\n",
    "#np.random.seed(seed)\n",
    "r = np.logspace(-2,np.log10(aperture),1000)\n",
    "\n",
    "Rmax = r.max()\n",
    "cdf = 1 - (1 + r**2)**(1-gamma/2)\n",
    "r50 = np.sqrt(2**(2/(gamma-2))-1) #np.interp(0.5,cdf,r)\n",
    "sigma = norm * (1 + r**2)**(-gamma/2)\n",
    "ecdf = cumtrapz(2*np.pi*r*(sigma + background), r,initial=0); ecdf_norm = ecdf.max()\n",
    "fac =  np.trapz(r*sigma, r)/np.trapz(r*(sigma + background), r)\n",
    "ecdf /= ecdf.max()\n",
    "samples_within_r50 = 0\n",
    "sample_size = N\n",
    "while samples_within_r50 < N:\n",
    "    samples = np.interp(np.sort(np.random.rand(sample_size)), ecdf, r)\n",
    "    samples_within_r50 = (samples < 1).sum()\n",
    "    sample_size *= 2\n",
    "samples = samples[samples < aperture]\n",
    "\n",
    "fig, ax = plt.subplots(1,1,figsize=(6,6))\n",
    "ax.loglog(r, sigma,color='red',ls='solid',label=\"Ground-truth cluster\")\n",
    "ax.plot([r50,r50],[0,1e6],color='red',label=r\"Ground-truth $R_{\\rm eff}$\",ls='dashdot')\n",
    "ax.loglog(r,np.repeat(background,len(r)),label=\"Background\",ls='dotted',color='red')\n",
    "rbins = np.logspace(-2,min(2,np.log10(aperture)),15)\n",
    "r_avg = (rbins[1:]*rbins[:-1])**0.5\n",
    "N = np.histogram(samples,rbins)[0]\n",
    "sigma_histogram = N/np.diff(np.pi*rbins**2) * ecdf_norm / len(samples)\n",
    "sigma_histogram[sigma_histogram==0] = np.nan\n",
    "ax.errorbar(r_avg[N>3],sigma_histogram[N>3],sigma_histogram[N>3]/np.sqrt(N[N>3]),label=\"Observed Counts\",capsize=1,lw=1,color='black')\n",
    "ax.loglog(r, sigma+background,label=\"Total\",ls='dashed',color='red')\n",
    "\n",
    "if show_model:\n",
    "    # def lossfunc(x):\n",
    "    #     return -log_prob(x)\n",
    "    def lossfunc(x):\n",
    "       logmu0, logbackground, loga, gam = x\n",
    "       mu, background, a = 10**logmu0, 10**logbackground, 10**loga\n",
    "       sigma_model = mu * (1+(r_avg/a)**2)**(-gam/2) + background\n",
    "       mask = (~np.isnan(sigma_histogram))*(sigma_histogram>0)#*(r_avg>0.1)\n",
    "#       N_model = sigma_model * np.diff(np.pi*rbins**2)\n",
    "       return np.sum(np.log((sigma_model/sigma_histogram)[mask])**2 * N[mask])\n",
    "\n",
    "    p0 = (np.log10(mu_max),np.log10(background), 0., gamma)\n",
    "    sol = minimize(lossfunc, np.array(p0)+0.01,tol=1e-4)\n",
    "    x = sol.x\n",
    "    H = sol.hess_inv\n",
    "    ax.loglog(r, 10**x[0] *  (1+(r/10**x[2])**2)**(-x[3]/2) + 10**x[1],label=\"Best-fit Model\",color='blue',ls=\"dashed\")\n",
    "    sigma_model = 10**x[0] *  (1+(r/10**x[2])**2)**(-x[3]/2)\n",
    "    ax.loglog(r, sigma_model,label=\"Best-fit Cluster Profile\",color='blue',ls=\"solid\")\n",
    "\n",
    "    Reff_model = 10**x[2]*(2**(2/(x[3]-2)) - 1 )**0.5\n",
    "    print(Reff_model,r50)\n",
    "   # st.write(r\"$\\gamma=%g$\"%x[3])\n",
    "    ax.text(6,15,r\"$\\gamma_{\\rm model}=%4.3g$\"%(x[3]),fontsize=12,color=\"blue\")\n",
    "\n",
    "    if np.isnan(Reff_model):\n",
    "        ax.text(1e1,1e1,r\"$R_{\\rm eff}$ undefined!\",fontsize=12)\n",
    "    ax.plot([Reff_model,Reff_model],[0,1e6],color='blue',label=r\"Model $R_{\\rm eff}$\",ls='dashdot')"
   ]
  },
  {
   "cell_type": "code",
   "execution_count": 129,
   "metadata": {},
   "outputs": [
    {
     "name": "stderr",
     "output_type": "stream",
     "text": [
      "  6%|▌         | 60/1000 [00:52<13:58,  1.12it/s]Traceback (most recent call last):\n",
      "  File \"/Users/mgrudic/opt/anaconda3/lib/python3.8/site-packages/emcee/ensemble.py\", line 624, in __call__\n",
      "    return self.f(x, *self.args, **self.kwargs)\n",
      "  File \"<ipython-input-129-0a4a4ca6e77a>\", line 13, in log_prob\n",
      "    lnprob = samples * (mu*(1 + np.square(samples/a))**(-g/2) + background) / norm\n",
      "KeyboardInterrupt\n",
      "  6%|▌         | 60/1000 [00:52<13:43,  1.14it/s]"
     ]
    },
    {
     "name": "stdout",
     "output_type": "stream",
     "text": [
      "emcee: Exception while calling your likelihood function:\n",
      "  params: [ 1.30483633  0.30643793 -0.00592113  2.46167942]\n",
      "  args: []\n",
      "  kwargs: {}\n",
      "  exception:\n"
     ]
    },
    {
     "name": "stderr",
     "output_type": "stream",
     "text": [
      "\n"
     ]
    },
    {
     "ename": "KeyboardInterrupt",
     "evalue": "",
     "output_type": "error",
     "traceback": [
      "\u001b[0;31m---------------------------------------------------------------------------\u001b[0m",
      "\u001b[0;31mKeyboardInterrupt\u001b[0m                         Traceback (most recent call last)",
      "\u001b[0;32m<ipython-input-129-0a4a4ca6e77a>\u001b[0m in \u001b[0;36m<module>\u001b[0;34m\u001b[0m\n\u001b[1;32m     23\u001b[0m \u001b[0;32mwith\u001b[0m \u001b[0mPool\u001b[0m\u001b[0;34m(\u001b[0m\u001b[0;34m)\u001b[0m \u001b[0;32mas\u001b[0m \u001b[0mpool\u001b[0m\u001b[0;34m:\u001b[0m\u001b[0;34m\u001b[0m\u001b[0;34m\u001b[0m\u001b[0m\n\u001b[1;32m     24\u001b[0m     \u001b[0msampler\u001b[0m \u001b[0;34m=\u001b[0m \u001b[0memcee\u001b[0m\u001b[0;34m.\u001b[0m\u001b[0mEnsembleSampler\u001b[0m\u001b[0;34m(\u001b[0m\u001b[0mnwalkers\u001b[0m\u001b[0;34m,\u001b[0m \u001b[0mndim\u001b[0m\u001b[0;34m,\u001b[0m \u001b[0mlog_prob\u001b[0m\u001b[0;34m)\u001b[0m\u001b[0;31m#,pool=pool)\u001b[0m\u001b[0;34m\u001b[0m\u001b[0;34m\u001b[0m\u001b[0m\n\u001b[0;32m---> 25\u001b[0;31m     \u001b[0msampler\u001b[0m\u001b[0;34m.\u001b[0m\u001b[0mrun_mcmc\u001b[0m\u001b[0;34m(\u001b[0m\u001b[0mp0\u001b[0m\u001b[0;34m,\u001b[0m \u001b[0;36m1000\u001b[0m\u001b[0;34m,\u001b[0m\u001b[0mprogress\u001b[0m\u001b[0;34m=\u001b[0m\u001b[0;32mTrue\u001b[0m\u001b[0;34m)\u001b[0m\u001b[0;34m\u001b[0m\u001b[0;34m\u001b[0m\u001b[0m\n\u001b[0m\u001b[1;32m     26\u001b[0m \u001b[0ms\u001b[0m \u001b[0;34m=\u001b[0m \u001b[0msampler\u001b[0m\u001b[0;34m.\u001b[0m\u001b[0mget_chain\u001b[0m\u001b[0;34m(\u001b[0m\u001b[0mflat\u001b[0m \u001b[0;34m=\u001b[0m \u001b[0;32mTrue\u001b[0m\u001b[0;34m,\u001b[0m\u001b[0mdiscard\u001b[0m\u001b[0;34m=\u001b[0m\u001b[0;36m100\u001b[0m\u001b[0;34m,\u001b[0m\u001b[0mthin\u001b[0m\u001b[0;34m=\u001b[0m\u001b[0;36m50\u001b[0m\u001b[0;34m)\u001b[0m\u001b[0;34m\u001b[0m\u001b[0;34m\u001b[0m\u001b[0m\n",
      "\u001b[0;32m~/opt/anaconda3/lib/python3.8/site-packages/emcee/ensemble.py\u001b[0m in \u001b[0;36mrun_mcmc\u001b[0;34m(self, initial_state, nsteps, **kwargs)\u001b[0m\n\u001b[1;32m    441\u001b[0m \u001b[0;34m\u001b[0m\u001b[0m\n\u001b[1;32m    442\u001b[0m         \u001b[0mresults\u001b[0m \u001b[0;34m=\u001b[0m \u001b[0;32mNone\u001b[0m\u001b[0;34m\u001b[0m\u001b[0;34m\u001b[0m\u001b[0m\n\u001b[0;32m--> 443\u001b[0;31m         \u001b[0;32mfor\u001b[0m \u001b[0mresults\u001b[0m \u001b[0;32min\u001b[0m \u001b[0mself\u001b[0m\u001b[0;34m.\u001b[0m\u001b[0msample\u001b[0m\u001b[0;34m(\u001b[0m\u001b[0minitial_state\u001b[0m\u001b[0;34m,\u001b[0m \u001b[0miterations\u001b[0m\u001b[0;34m=\u001b[0m\u001b[0mnsteps\u001b[0m\u001b[0;34m,\u001b[0m \u001b[0;34m**\u001b[0m\u001b[0mkwargs\u001b[0m\u001b[0;34m)\u001b[0m\u001b[0;34m:\u001b[0m\u001b[0;34m\u001b[0m\u001b[0;34m\u001b[0m\u001b[0m\n\u001b[0m\u001b[1;32m    444\u001b[0m             \u001b[0;32mpass\u001b[0m\u001b[0;34m\u001b[0m\u001b[0;34m\u001b[0m\u001b[0m\n\u001b[1;32m    445\u001b[0m \u001b[0;34m\u001b[0m\u001b[0m\n",
      "\u001b[0;32m~/opt/anaconda3/lib/python3.8/site-packages/emcee/ensemble.py\u001b[0m in \u001b[0;36msample\u001b[0;34m(self, initial_state, log_prob0, rstate0, blobs0, iterations, tune, skip_initial_state_check, thin_by, thin, store, progress, progress_kwargs)\u001b[0m\n\u001b[1;32m    400\u001b[0m \u001b[0;34m\u001b[0m\u001b[0m\n\u001b[1;32m    401\u001b[0m                     \u001b[0;31m# Propose\u001b[0m\u001b[0;34m\u001b[0m\u001b[0;34m\u001b[0m\u001b[0;34m\u001b[0m\u001b[0m\n\u001b[0;32m--> 402\u001b[0;31m                     \u001b[0mstate\u001b[0m\u001b[0;34m,\u001b[0m \u001b[0maccepted\u001b[0m \u001b[0;34m=\u001b[0m \u001b[0mmove\u001b[0m\u001b[0;34m.\u001b[0m\u001b[0mpropose\u001b[0m\u001b[0;34m(\u001b[0m\u001b[0mmodel\u001b[0m\u001b[0;34m,\u001b[0m \u001b[0mstate\u001b[0m\u001b[0;34m)\u001b[0m\u001b[0;34m\u001b[0m\u001b[0;34m\u001b[0m\u001b[0m\n\u001b[0m\u001b[1;32m    403\u001b[0m                     \u001b[0mstate\u001b[0m\u001b[0;34m.\u001b[0m\u001b[0mrandom_state\u001b[0m \u001b[0;34m=\u001b[0m \u001b[0mself\u001b[0m\u001b[0;34m.\u001b[0m\u001b[0mrandom_state\u001b[0m\u001b[0;34m\u001b[0m\u001b[0;34m\u001b[0m\u001b[0m\n\u001b[1;32m    404\u001b[0m \u001b[0;34m\u001b[0m\u001b[0m\n",
      "\u001b[0;32m~/opt/anaconda3/lib/python3.8/site-packages/emcee/moves/red_blue.py\u001b[0m in \u001b[0;36mpropose\u001b[0;34m(self, model, state)\u001b[0m\n\u001b[1;32m     91\u001b[0m \u001b[0;34m\u001b[0m\u001b[0m\n\u001b[1;32m     92\u001b[0m             \u001b[0;31m# Compute the lnprobs of the proposed position.\u001b[0m\u001b[0;34m\u001b[0m\u001b[0;34m\u001b[0m\u001b[0;34m\u001b[0m\u001b[0m\n\u001b[0;32m---> 93\u001b[0;31m             \u001b[0mnew_log_probs\u001b[0m\u001b[0;34m,\u001b[0m \u001b[0mnew_blobs\u001b[0m \u001b[0;34m=\u001b[0m \u001b[0mmodel\u001b[0m\u001b[0;34m.\u001b[0m\u001b[0mcompute_log_prob_fn\u001b[0m\u001b[0;34m(\u001b[0m\u001b[0mq\u001b[0m\u001b[0;34m)\u001b[0m\u001b[0;34m\u001b[0m\u001b[0;34m\u001b[0m\u001b[0m\n\u001b[0m\u001b[1;32m     94\u001b[0m \u001b[0;34m\u001b[0m\u001b[0m\n\u001b[1;32m     95\u001b[0m             \u001b[0;31m# Loop over the walkers and update them accordingly.\u001b[0m\u001b[0;34m\u001b[0m\u001b[0;34m\u001b[0m\u001b[0;34m\u001b[0m\u001b[0m\n",
      "\u001b[0;32m~/opt/anaconda3/lib/python3.8/site-packages/emcee/ensemble.py\u001b[0m in \u001b[0;36mcompute_log_prob\u001b[0;34m(self, coords)\u001b[0m\n\u001b[1;32m    487\u001b[0m             \u001b[0;32melse\u001b[0m\u001b[0;34m:\u001b[0m\u001b[0;34m\u001b[0m\u001b[0;34m\u001b[0m\u001b[0m\n\u001b[1;32m    488\u001b[0m                 \u001b[0mmap_func\u001b[0m \u001b[0;34m=\u001b[0m \u001b[0mmap\u001b[0m\u001b[0;34m\u001b[0m\u001b[0;34m\u001b[0m\u001b[0m\n\u001b[0;32m--> 489\u001b[0;31m             \u001b[0mresults\u001b[0m \u001b[0;34m=\u001b[0m \u001b[0mlist\u001b[0m\u001b[0;34m(\u001b[0m\u001b[0mmap_func\u001b[0m\u001b[0;34m(\u001b[0m\u001b[0mself\u001b[0m\u001b[0;34m.\u001b[0m\u001b[0mlog_prob_fn\u001b[0m\u001b[0;34m,\u001b[0m \u001b[0mp\u001b[0m\u001b[0;34m)\u001b[0m\u001b[0;34m)\u001b[0m\u001b[0;34m\u001b[0m\u001b[0;34m\u001b[0m\u001b[0m\n\u001b[0m\u001b[1;32m    490\u001b[0m \u001b[0;34m\u001b[0m\u001b[0m\n\u001b[1;32m    491\u001b[0m         \u001b[0;32mtry\u001b[0m\u001b[0;34m:\u001b[0m\u001b[0;34m\u001b[0m\u001b[0;34m\u001b[0m\u001b[0m\n",
      "\u001b[0;32m~/opt/anaconda3/lib/python3.8/site-packages/emcee/ensemble.py\u001b[0m in \u001b[0;36m__call__\u001b[0;34m(self, x)\u001b[0m\n\u001b[1;32m    622\u001b[0m     \u001b[0;32mdef\u001b[0m \u001b[0m__call__\u001b[0m\u001b[0;34m(\u001b[0m\u001b[0mself\u001b[0m\u001b[0;34m,\u001b[0m \u001b[0mx\u001b[0m\u001b[0;34m)\u001b[0m\u001b[0;34m:\u001b[0m\u001b[0;34m\u001b[0m\u001b[0;34m\u001b[0m\u001b[0m\n\u001b[1;32m    623\u001b[0m         \u001b[0;32mtry\u001b[0m\u001b[0;34m:\u001b[0m\u001b[0;34m\u001b[0m\u001b[0;34m\u001b[0m\u001b[0m\n\u001b[0;32m--> 624\u001b[0;31m             \u001b[0;32mreturn\u001b[0m \u001b[0mself\u001b[0m\u001b[0;34m.\u001b[0m\u001b[0mf\u001b[0m\u001b[0;34m(\u001b[0m\u001b[0mx\u001b[0m\u001b[0;34m,\u001b[0m \u001b[0;34m*\u001b[0m\u001b[0mself\u001b[0m\u001b[0;34m.\u001b[0m\u001b[0margs\u001b[0m\u001b[0;34m,\u001b[0m \u001b[0;34m**\u001b[0m\u001b[0mself\u001b[0m\u001b[0;34m.\u001b[0m\u001b[0mkwargs\u001b[0m\u001b[0;34m)\u001b[0m\u001b[0;34m\u001b[0m\u001b[0;34m\u001b[0m\u001b[0m\n\u001b[0m\u001b[1;32m    625\u001b[0m         \u001b[0;32mexcept\u001b[0m\u001b[0;34m:\u001b[0m  \u001b[0;31m# pragma: no cover\u001b[0m\u001b[0;34m\u001b[0m\u001b[0;34m\u001b[0m\u001b[0m\n\u001b[1;32m    626\u001b[0m             \u001b[0;32mimport\u001b[0m \u001b[0mtraceback\u001b[0m\u001b[0;34m\u001b[0m\u001b[0;34m\u001b[0m\u001b[0m\n",
      "\u001b[0;32m<ipython-input-129-0a4a4ca6e77a>\u001b[0m in \u001b[0;36mlog_prob\u001b[0;34m(x)\u001b[0m\n\u001b[1;32m     11\u001b[0m     \u001b[0mmu\u001b[0m\u001b[0;34m,\u001b[0m \u001b[0mbackground\u001b[0m\u001b[0;34m,\u001b[0m \u001b[0ma\u001b[0m \u001b[0;34m=\u001b[0m \u001b[0;36m10\u001b[0m\u001b[0;34m**\u001b[0m\u001b[0mlogmu0\u001b[0m\u001b[0;34m,\u001b[0m \u001b[0;36m10\u001b[0m\u001b[0;34m**\u001b[0m\u001b[0mlogbackground\u001b[0m\u001b[0;34m,\u001b[0m \u001b[0;36m10\u001b[0m\u001b[0;34m**\u001b[0m\u001b[0mloga\u001b[0m\u001b[0;34m\u001b[0m\u001b[0;34m\u001b[0m\u001b[0m\n\u001b[1;32m     12\u001b[0m     \u001b[0mnorm\u001b[0m \u001b[0;34m=\u001b[0m \u001b[0;34m(\u001b[0m\u001b[0mbackground\u001b[0m\u001b[0;34m*\u001b[0m\u001b[0mRmax\u001b[0m\u001b[0;34m**\u001b[0m\u001b[0;36m2\u001b[0m\u001b[0;34m)\u001b[0m\u001b[0;34m/\u001b[0m\u001b[0;36m2.\u001b[0m \u001b[0;34m+\u001b[0m \u001b[0;34m(\u001b[0m\u001b[0mmu\u001b[0m\u001b[0;34m*\u001b[0m\u001b[0;34m(\u001b[0m\u001b[0ma\u001b[0m\u001b[0;34m**\u001b[0m\u001b[0;36m2\u001b[0m \u001b[0;34m-\u001b[0m \u001b[0ma\u001b[0m\u001b[0;34m**\u001b[0m\u001b[0mg\u001b[0m\u001b[0;34m*\u001b[0m\u001b[0;34m(\u001b[0m\u001b[0ma\u001b[0m\u001b[0;34m**\u001b[0m\u001b[0;36m2\u001b[0m \u001b[0;34m+\u001b[0m \u001b[0mRmax\u001b[0m\u001b[0;34m**\u001b[0m\u001b[0;36m2\u001b[0m\u001b[0;34m)\u001b[0m\u001b[0;34m**\u001b[0m\u001b[0;34m(\u001b[0m\u001b[0;36m1\u001b[0m \u001b[0;34m-\u001b[0m \u001b[0mg\u001b[0m\u001b[0;34m/\u001b[0m\u001b[0;36m2.\u001b[0m\u001b[0;34m)\u001b[0m\u001b[0;34m)\u001b[0m\u001b[0;34m)\u001b[0m\u001b[0;34m/\u001b[0m\u001b[0;34m(\u001b[0m\u001b[0mg\u001b[0m \u001b[0;34m-\u001b[0m \u001b[0;36m2\u001b[0m\u001b[0;34m)\u001b[0m\u001b[0;34m\u001b[0m\u001b[0;34m\u001b[0m\u001b[0m\n\u001b[0;32m---> 13\u001b[0;31m     \u001b[0mlnprob\u001b[0m \u001b[0;34m=\u001b[0m \u001b[0msamples\u001b[0m \u001b[0;34m*\u001b[0m \u001b[0;34m(\u001b[0m\u001b[0mmu\u001b[0m\u001b[0;34m*\u001b[0m\u001b[0;34m(\u001b[0m\u001b[0;36m1\u001b[0m \u001b[0;34m+\u001b[0m \u001b[0mnp\u001b[0m\u001b[0;34m.\u001b[0m\u001b[0msquare\u001b[0m\u001b[0;34m(\u001b[0m\u001b[0msamples\u001b[0m\u001b[0;34m/\u001b[0m\u001b[0ma\u001b[0m\u001b[0;34m)\u001b[0m\u001b[0;34m)\u001b[0m\u001b[0;34m**\u001b[0m\u001b[0;34m(\u001b[0m\u001b[0;34m-\u001b[0m\u001b[0mg\u001b[0m\u001b[0;34m/\u001b[0m\u001b[0;36m2\u001b[0m\u001b[0;34m)\u001b[0m \u001b[0;34m+\u001b[0m \u001b[0mbackground\u001b[0m\u001b[0;34m)\u001b[0m \u001b[0;34m/\u001b[0m \u001b[0mnorm\u001b[0m\u001b[0;34m\u001b[0m\u001b[0;34m\u001b[0m\u001b[0m\n\u001b[0m\u001b[1;32m     14\u001b[0m     \u001b[0mlnprob\u001b[0m \u001b[0;34m=\u001b[0m \u001b[0mnp\u001b[0m\u001b[0;34m.\u001b[0m\u001b[0mlog\u001b[0m\u001b[0;34m(\u001b[0m\u001b[0mlnprob\u001b[0m\u001b[0;34m)\u001b[0m\u001b[0;34m\u001b[0m\u001b[0;34m\u001b[0m\u001b[0m\n\u001b[1;32m     15\u001b[0m     \u001b[0mlnprob\u001b[0m \u001b[0;34m=\u001b[0m \u001b[0mnp\u001b[0m\u001b[0;34m.\u001b[0m\u001b[0msum\u001b[0m\u001b[0;34m(\u001b[0m\u001b[0mlnprob\u001b[0m\u001b[0;34m)\u001b[0m \u001b[0;34m+\u001b[0m \u001b[0mprior\u001b[0m\u001b[0;34m(\u001b[0m\u001b[0mx\u001b[0m\u001b[0;34m)\u001b[0m\u001b[0;34m\u001b[0m\u001b[0;34m\u001b[0m\u001b[0m\n",
      "\u001b[0;31mKeyboardInterrupt\u001b[0m: "
     ]
    }
   ],
   "source": [
    "\n",
    "def prior(x):\n",
    "    mu0, background, a, gamma = x\n",
    "    if gamma < 2 or gamma > 10: return -np.inf\n",
    "    if mu0 < -100 or mu0 > 100: return -np.inf\n",
    "    if background < -100 or background > 100: return -np.inf\n",
    "    if a < -100 or a > 100: return -np.inf\n",
    "    return 1.\n",
    "\n",
    "def log_prob(x):\n",
    "    logmu0, logbackground, loga, g = x\n",
    "    mu, background, a = 10**logmu0, 10**logbackground, 10**loga\n",
    "    norm = (background*Rmax**2)/2. + (mu*(a**2 - a**g*(a**2 + Rmax**2)**(1 - g/2.)))/(g - 2)\n",
    "    lnprob = samples * (mu*(1 + np.square(samples/a))**(-g/2) + background) / norm\n",
    "    lnprob = np.log(lnprob)\n",
    "    lnprob = np.sum(lnprob) + prior(x)\n",
    "    if np.isnan(lnprob): lnprob = -np.inf\n",
    "    return lnprob\n",
    "\n",
    "\n",
    "ndim, nwalkers = 4, 100\n",
    "p0 = np.array([np.log10(mu_max),np.log10(background),0,2.5]) + 1e-2*np.random.normal(size=(nwalkers,ndim))\n",
    "\n",
    "with Pool() as pool:\n",
    "    sampler = emcee.EnsembleSampler(nwalkers, ndim, log_prob)#,pool=pool)\n",
    "    sampler.run_mcmc(p0, 1000,progress=True)\n",
    "s = sampler.get_chain(flat = True,discard=100,thin=50)\n"
   ]
  },
  {
   "cell_type": "code",
   "execution_count": 120,
   "metadata": {},
   "outputs": [
    {
     "data": {
      "text/plain": [
       "(array([ 3.42976766,  5.36510286, 13.11644227]), 0.5880456295278407)"
      ]
     },
     "execution_count": 120,
     "metadata": {},
     "output_type": "execute_result"
    }
   ],
   "source": [
    "logReff_sample = np.log10(10**s[:,2]*(2**(2/(s[:,-1]-2))-1)**0.5)\n",
    "#Reff_sample\n",
    "#10**np.median(Reff_sample), r50\n",
    "#samples[:,-1].min()\n",
    "#plt.hist(10**logReff_sample,100); plt.yscale('log')\n",
    "np.percentile(10**logReff_sample,[16,50,84]), np.log10(r50)\n",
    "#minimize(lambda x: -log_prob(x),p0[0])\n",
    "#plt.hist(s[:,-1])\n",
    "#np\n",
    "#s"
   ]
  },
  {
   "cell_type": "code",
   "execution_count": 119,
   "metadata": {},
   "outputs": [
    {
     "data": {
      "text/plain": [
       "(array([2.25531062, 2.39291975, 2.5472394 ]), 0.10686175727304958)"
      ]
     },
     "execution_count": 119,
     "metadata": {},
     "output_type": "execute_result"
    }
   ],
   "source": [
    "np.percentile(s[:,-1],[16,50,84]), H[-1,-1]**0.5\n",
    "\n"
   ]
  },
  {
   "cell_type": "code",
   "execution_count": 117,
   "metadata": {},
   "outputs": [
    {
     "data": {
      "text/plain": [
       "array([10.55280503,  9.50228754, -0.07175505,  2.31045309])"
      ]
     },
     "execution_count": 117,
     "metadata": {},
     "output_type": "execute_result"
    }
   ],
   "source": [
    "s["
   ]
  },
  {
   "cell_type": "code",
   "execution_count": 127,
   "metadata": {},
   "outputs": [
    {
     "data": {
      "text/plain": [
       "(array([5.160e+02, 3.264e+03, 3.006e+03, 4.210e+02, 3.100e+01, 3.000e+00,\n",
       "        0.000e+00, 0.000e+00, 0.000e+00, 1.000e+00]),\n",
       " array([ 2.73069513,  4.00570297,  5.28071081,  6.55571864,  7.83072648,\n",
       "         9.10573432, 10.38074216, 11.65575   , 12.93075784, 14.20576567,\n",
       "        15.48077351]),\n",
       " <BarContainer object of 10 artists>)"
      ]
     },
     "execution_count": 127,
     "metadata": {},
     "output_type": "execute_result"
    },
    {
     "data": {
      "image/png": "[encoded data removed]",
      "text/plain": [
       "<Figure size 432x288 with 1 Axes>"
      ]
     },
     "metadata": {
      "needs_background": "light"
     },
     "output_type": "display_data"
    }
   ],
   "source": [
    "from astropy.table import Table\n",
    "catalog = Table.read(\"cluster_sizes_brown_gnedin_21.txt\", format=\"ascii.ecsv\")\n",
    "#plt.hist(np.log10(catalog[\"mu_0\"] * np.pi * catalog[\"scale_radius_pixels\"]**2))"
   ]
  },
  {
   "cell_type": "code",
   "execution_count": 12,
   "metadata": {},
   "outputs": [
    {
     "name": "stdout",
     "output_type": "stream",
     "text": [
      "Timer unit: 1e-06 s\n",
      "\n",
      "Total time: 0.000144 s\n",
      "File: <ipython-input-10-fbfedf1065eb>\n",
      "Function: lossfunc at line 56\n",
      "\n",
      "Line #      Hits         Time  Per Hit   % Time  Line Contents\n",
      "==============================================================\n",
      "    56                                               def lossfunc(x):\n",
      "    57         1         10.0     10.0      6.9         logmu0, logbackground, loga, gam = x\n",
      "    58         1          8.0      8.0      5.6         mu, background, a = 10**logmu0, 10**logbackground, 10**loga\n",
      "    59         1         47.0     47.0     32.6         sigma_model = mu * (1+(r_avg/a)**2)**(-gam/2) + background\n",
      "    60         1         13.0     13.0      9.0         mask = (~np.isnan(sigma_histogram))*(sigma_histogram>0)#*(r_avg>0.1)\n",
      "    61                                           #       N_model = sigma_model * np.diff(np.pi*rbins**2)\n",
      "    62         1         66.0     66.0     45.8         return np.sum(np.log((sigma_model/sigma_histogram)[mask])**2 * N[mask])"
     ]
    }
   ],
   "source": [
    "%lprun -f lossfunc lossfunc(x)"
   ]
  },
  {
   "cell_type": "code",
   "execution_count": 5,
   "metadata": {},
   "outputs": [],
   "source": [
    "from numba import njit"
   ]
  },
  {
   "cell_type": "code",
   "execution_count": 6,
   "metadata": {},
   "outputs": [],
   "source": [
    "lossfunc = njit(lossfunc,parallel=True)"
   ]
  },
  {
   "cell_type": "code",
   "execution_count": null,
   "metadata": {},
   "outputs": [],
   "source": []
  }
 ],
 "metadata": {
  "kernelspec": {
   "display_name": "base",
   "language": "python",
   "name": "python3"
  },
  "language_info": {
   "codemirror_mode": {
    "name": "ipython",
    "version": 3
   },
   "file_extension": ".py",
   "mimetype": "text/x-python",
   "name": "python",
   "nbconvert_exporter": "python",
   "pygments_lexer": "ipython3",
   "version": "3.8.5"
  },
  "orig_nbformat": 4
 },
 "nbformat": 4,
 "nbformat_minor": 2
}
