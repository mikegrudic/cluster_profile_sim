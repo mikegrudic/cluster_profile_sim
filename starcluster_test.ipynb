{
 "cells": [
  {
   "cell_type": "code",
   "execution_count": 1,
   "metadata": {},
   "outputs": [
    {
     "name": "stdout",
     "output_type": "stream",
     "text": [
      "Using matplotlib backend: <object object at 0x7d3766d14270>\n",
      "%pylab is deprecated, use %matplotlib inline and import the required libraries.\n",
      "Populating the interactive namespace from numpy and matplotlib\n"
     ]
    }
   ],
   "source": [
    "%pylab\n",
    "from star_cluster import StarCluster\n",
    "from filterlists import * \n",
    "#from slugpy.cluster_slug import cluster_slug\n",
    "\n",
    "#cs = cluster_slug(use_nebular=False,photsystem=\"Vega\",libname=\"CLUSTERSLUG_MW\")\n",
    "#cs.add_filters(messa_m51_filters)\n",
    "\n",
    "# for i in range(10):\n",
    "#     sc = StarCluster(10**4,model=\"EFF\",background=1e-2,rmax=30,scale_radius=1.0,shape=2.5)\n",
    "#     plt.plot(np.linspace(6,9,101),[sc.measure_r50(count_photons=True,age=a,method='poisson') for a in np.logspace(6,9,101)]); plt.yscale('log')\n",
    "#phot = sc.get_photometry(3e8,[\"ACS_F555W\"])\n",
    "#plt.scatter(np.log10(sc.masses),phot[:,0])\n",
    "#plt.scatter(np.log10(sc.masses),phot[:,1])\n",
    "#phot = sc.get_photometry(1e7)\n",
    "#plt.plot(np.log10(np.sort(sc.masses)), phot[sc.masses.argsort()])\n",
    "#sc.measure_bayesian(1e6,\"Mass\",cs=cs)\n",
    "\n",
    "#rc, rb = sc.get_all_radii()\n",
    "#sc.get_background_radii(),sc.get_cluster_radii()\n",
    "#%timeit sc.fit_density_profile() #full_output=True)\n",
    "\n"
   ]
  },
  {
   "cell_type": "code",
   "execution_count": 2,
   "metadata": {},
   "outputs": [],
   "source": [
    "from slugpy.cluster_slug import cluster_slug\n",
    "import numpy as np\n",
    "cs = cluster_slug(use_nebular=False,photsystem=\"Vega\")\n",
    "cs.add_filters(messa_m51_filters)"
   ]
  },
  {
   "cell_type": "code",
   "execution_count": 3,
   "metadata": {},
   "outputs": [
    {
     "name": "stderr",
     "output_type": "stream",
     "text": [
      "/home/mgrudic/code/cluster_profile_sim_dev/get_isochrone.py:136: NumbaExperimentalFeatureWarning: \u001b[1m\u001b[1mFirst-class function type feature is experimental\u001b[0m\u001b[0m\n",
      "  mgrid1 = isochrone_grid[age_idx1, :, 0]\n",
      "/home/mgrudic/code/cluster_profile_sim_dev/lossfuncs.py:45: RuntimeWarning: invalid value encountered in divide\n",
      "  mu\n",
      "/home/mgrudic/code/cluster_profile_sim_dev/density_models.py:62: RuntimeWarning: overflow encountered in scalar power\n",
      "  return np.sqrt(2 ** (2 / (gamma - 2)) - 1) * scale_radius\n",
      "/home/mgrudic/code/cluster_profile_sim_dev/star_cluster.py:300: OptimizeWarning: Initial guess is not within the specified bounds\n",
      "  sol = minimize(\n"
     ]
    },
    {
     "name": "stdout",
     "output_type": "stream",
     "text": [
      "-0.02209087303668535\n"
     ]
    }
   ],
   "source": [
    "#from random_cluster_population import *\n",
    "from density_models import *\n",
    "import numpy as np\n",
    "from star_cluster import StarCluster\n",
    "from filterlists import * \n",
    "\n",
    "#ML_age, ML = np.loadtxt(\"Bruzual_Charlot_2003_ML_vs_Age.csv\").T\n",
    "\n",
    "data = []\n",
    "#data = list(np.load(\"mass_radius_measurements.npy\"))\n",
    "slopes = []\n",
    "#for i in range(1):\n",
    "while True:\n",
    "    #masses, ages, gammas = random_cluster_population(100,Mmin=5e3)\n",
    "    Mmin, Mmax = 2e3, 1e6\n",
    "    tmin, tmax = 3e6,1e9\n",
    "    rmax = 15\n",
    "    nclusters = 100\n",
    "    gammas = np.random.uniform(2.2,3.2,nclusters)\n",
    "    x = np.random.rand(nclusters)\n",
    "    true_masses = Mmax * Mmin / (Mmax * (1 - x) + Mmin * x)\n",
    "    ages = 10**(np.log10(tmin)+np.log10(tmax/tmin)*np.random.rand(nclusters))\n",
    "    r50s = []\n",
    "    masses = []\n",
    "    masses_ap = []\n",
    "    true_radii = []\n",
    "    tm = []\n",
    "    ta = []\n",
    "    measured_ages = []\n",
    "    #true_masses =[]\n",
    "    \n",
    "    for mass, age, gamma in zip(true_masses,ages,gammas):\n",
    "        #print(mass)\n",
    "        numstars = int(mass/0.5+0.5)\n",
    "        scale_radius = 3*(mass/1e4)**(1./3)/model_r50(gamma,1.,'EFF')\n",
    "        sc = StarCluster(num_stars=numstars, scale_radius=scale_radius, shape=gamma, background=1e-1,model='EFF',rmax=rmax)\n",
    "        measured_mass = 10**sc.measure_bayesian(age,\"Mass\",cs=cs)[1]\n",
    "        #if measured_mass < 5e3: continue\n",
    "        measured_age = 10**sc.measure_bayesian(age,\"Age\",cs=cs)[1]\n",
    "        params = sc.fit_density_profile(count_photons=True, age=age)\n",
    "        gamma_measured = params[3]\n",
    "        scale_radius_measured = 10**params[2]\n",
    "        r50 = sc.measure_r50(count_photons=True,age=age)\n",
    "        #if measured_age > 3e8 or measured_age < 1e7: continue\n",
    "        masses_ap.append(measured_mass)        \n",
    "        measured_mass *= mass_aperture_fac(gamma_measured,scale_radius_measured,rmax,'EFF')\n",
    "        masses.append(measured_mass)        \n",
    "        r50s.append(r50)\n",
    "        tm.append(mass)\n",
    "        ta.append(age)\n",
    "        true_radii.append(3*(mass/1e4)**(1./3))\n",
    "        measured_ages.append(measured_age)\n",
    "    cut = np.isfinite(r50s) * (np.array(r50s)<100) * (np.array(r50s) > 0.1)\n",
    "    slopes.append(np.polyfit(np.log10(masses)[cut],np.log10(r50s)[cut],1)[0])\n",
    "    data.append([true_masses,true_radii,ages,gammas,masses,masses_ap,r50s,measured_ages])\n",
    "    np.save(\"mass_radius_measurements.npy\",data)\n",
    "    print(slopes[-1])\n",
    "print(np.median(slopes),np.std(slopes))"
   ]
  },
  {
   "cell_type": "code",
   "execution_count": 21,
   "metadata": {},
   "outputs": [
    {
     "data": {
      "text/plain": [
       "7"
      ]
     },
     "execution_count": 21,
     "metadata": {},
     "output_type": "execute_result"
    }
   ],
   "source": [
    "len(data[0])"
   ]
  },
  {
   "cell_type": "code",
   "execution_count": 22,
   "metadata": {},
   "outputs": [
    {
     "data": {
      "text/plain": [
       "(1028, 7, 100)"
      ]
     },
     "execution_count": 22,
     "metadata": {},
     "output_type": "execute_result"
    }
   ],
   "source": [
    "np.load(\"mass_radius_measurements.npy\").shape\n",
    "#data.shape"
   ]
  },
  {
   "cell_type": "code",
   "execution_count": 36,
   "metadata": {},
   "outputs": [
    {
     "data": {
      "text/plain": [
       "(0.26098949319320214, 0.4301914103045154)"
      ]
     },
     "execution_count": 36,
     "metadata": {},
     "output_type": "execute_result"
    }
   ],
   "source": [
    "#sc.measure_bayesian(age,\"Mass\",cs=cs)\n",
    "plt.figure(figsize=(4,4))\n",
    "plt.loglog(masses,r50s,'.',label=\"Measured\")\n",
    "plt.loglog(tm,3*(np.array(tm)/1e4)**(1./3),'.',label=\"True\")\n",
    "for i in range(len(tm)):\n",
    "    plt.loglog([tm[i],masses[i]],[3*(tm[i]/1e4)**(1./3),r50s[i]],color='black',alpha=0.3)\n",
    "plt.xlabel(r\"$M\\,\\left(M_\\odot\\right)$\")\n",
    "plt.ylabel(r\"$R_{\\rm eff}\\,\\left(\\rm pc\\right)$\")\n",
    "plt.legend()\n",
    "cut = np.isfinite(r50s) * (np.array(r50s)<100) * (np.array(r50s) > 0.1)\n",
    "#print(cut.sum())\n",
    "fit = np.polyfit(np.log10(masses)[cut],np.log10(r50s)[cut],1)\n",
    "logr_model = np.polyval(fit, np.log10(masses)[cut])\n",
    "np.std(logr_model - np.log10(r50s)[cut]), fit[0]\n"
   ]
  },
  {
   "cell_type": "code",
   "execution_count": 23,
   "metadata": {},
   "outputs": [
    {
     "ename": "TypeError",
     "evalue": "iteration over a 0-d array",
     "output_type": "error",
     "traceback": [
      "\u001b[0;31m---------------------------------------------------------------------------\u001b[0m",
      "\u001b[0;31mTypeError\u001b[0m                                 Traceback (most recent call last)",
      "Cell \u001b[0;32mIn[23], line 1\u001b[0m\n\u001b[0;32m----> 1\u001b[0m \u001b[43mnp\u001b[49m\u001b[38;5;241;43m.\u001b[39;49m\u001b[43mpolyval\u001b[49m\u001b[43m(\u001b[49m\u001b[43mfit\u001b[49m\u001b[43m,\u001b[49m\u001b[43m \u001b[49m\u001b[43mnp\u001b[49m\u001b[38;5;241;43m.\u001b[39;49m\u001b[43mlog10\u001b[49m\u001b[43m(\u001b[49m\u001b[43mmasses\u001b[49m\u001b[43m)\u001b[49m\u001b[43m[\u001b[49m\u001b[43mcut\u001b[49m\u001b[43m]\u001b[49m\u001b[43m)\u001b[49m\n",
      "File \u001b[0;32m<__array_function__ internals>:200\u001b[0m, in \u001b[0;36mpolyval\u001b[0;34m(*args, **kwargs)\u001b[0m\n",
      "File \u001b[0;32m/opt/intel/oneapi/intelpython/latest/envs/2023.2.0/lib/python3.9/site-packages/numpy/lib/polynomial.py:778\u001b[0m, in \u001b[0;36mpolyval\u001b[0;34m(p, x)\u001b[0m\n\u001b[1;32m    776\u001b[0m     x \u001b[38;5;241m=\u001b[39m NX\u001b[38;5;241m.\u001b[39masanyarray(x)\n\u001b[1;32m    777\u001b[0m     y \u001b[38;5;241m=\u001b[39m NX\u001b[38;5;241m.\u001b[39mzeros_like(x)\n\u001b[0;32m--> 778\u001b[0m \u001b[38;5;28;01mfor\u001b[39;00m pv \u001b[38;5;129;01min\u001b[39;00m p:\n\u001b[1;32m    779\u001b[0m     y \u001b[38;5;241m=\u001b[39m y \u001b[38;5;241m*\u001b[39m x \u001b[38;5;241m+\u001b[39m pv\n\u001b[1;32m    780\u001b[0m \u001b[38;5;28;01mreturn\u001b[39;00m y\n",
      "\u001b[0;31mTypeError\u001b[0m: iteration over a 0-d array"
     ]
    }
   ],
   "source": [
    "np.polyval(fit, np.log10(masses)[cut])"
   ]
  },
  {
   "cell_type": "code",
   "execution_count": 4,
   "metadata": {},
   "outputs": [
    {
     "ename": "NameError",
     "evalue": "name 'filt' is not defined",
     "output_type": "error",
     "traceback": [
      "\u001b[0;31m---------------------------------------------------------------------------\u001b[0m",
      "\u001b[0;31mNameError\u001b[0m                                 Traceback (most recent call last)",
      "Cell \u001b[0;32mIn[4], line 3\u001b[0m\n\u001b[1;32m      1\u001b[0m \u001b[39mimport\u001b[39;00m \u001b[39mpickle\u001b[39;00m\n\u001b[1;32m      2\u001b[0m filt, track, grids \u001b[39m=\u001b[39m pickle\u001b[39m.\u001b[39mload(\n\u001b[0;32m----> 3\u001b[0m     \u001b[39mopen\u001b[39m(\u001b[39mf\u001b[39m\u001b[39m\"\u001b[39m\u001b[39mlumgrids/mass_lum_grid_\u001b[39m\u001b[39m{\u001b[39;00mfilt\u001b[39m}\u001b[39;00m\u001b[39m_\u001b[39m\u001b[39m{\u001b[39;00mtrack\u001b[39m}\u001b[39;00m\u001b[39m.dump\u001b[39m\u001b[39m\"\u001b[39m, \u001b[39m\"\u001b[39m\u001b[39mrb\u001b[39m\u001b[39m\"\u001b[39m)\n\u001b[1;32m      4\u001b[0m )\n\u001b[1;32m      5\u001b[0m mgrid, Lgrid \u001b[39m=\u001b[39m grids[age_yr]\n\u001b[1;32m      6\u001b[0m logmgrid \u001b[39m=\u001b[39m np\u001b[39m.\u001b[39mlog10(mgrid)\n",
      "\u001b[0;31mNameError\u001b[0m: name 'filt' is not defined"
     ]
    }
   ],
   "source": [
    "import pickle\n",
    "f\n",
    "filt, track, grids = pickle.load(\n",
    "    open(f\"lumgrids/mass_lum_grid_{filt}_{track}.dump\", \"rb\")\n",
    ")\n",
    "mgrid, Lgrid = grids[age_yr]\n",
    "logmgrid = np.log10(mgrid)\n",
    "logLgrid = np.log10(Lgrid)\n",
    "mmax = mgrid[np.isfinite(logLgrid)].max()"
   ]
  },
  {
   "cell_type": "code",
   "execution_count": 5,
   "metadata": {},
   "outputs": [
    {
     "data": {
      "text/plain": [
       "100000"
      ]
     },
     "execution_count": 5,
     "metadata": {},
     "output_type": "execute_result"
    }
   ],
   "source": [
    "sc.num_stars"
   ]
  },
  {
   "cell_type": "code",
   "execution_count": 6,
   "metadata": {},
   "outputs": [
    {
     "data": {
      "text/plain": [
       "1.0"
      ]
     },
     "execution_count": 6,
     "metadata": {},
     "output_type": "execute_result"
    }
   ],
   "source": [
    "1 - (1 + np.inf * np.inf) ** (1 - 0.5 * 2.5)\n"
   ]
  },
  {
   "cell_type": "code",
   "execution_count": null,
   "metadata": {},
   "outputs": [],
   "source": []
  }
 ],
 "metadata": {
  "kernelspec": {
   "display_name": "2023.2.0",
   "language": "python",
   "name": "python3"
  },
  "language_info": {
   "codemirror_mode": {
    "name": "ipython",
    "version": 3
   },
   "file_extension": ".py",
   "mimetype": "text/x-python",
   "name": "python",
   "nbconvert_exporter": "python",
   "pygments_lexer": "ipython3",
   "version": "3.9.16"
  }
 },
 "nbformat": 4,
 "nbformat_minor": 2
}
