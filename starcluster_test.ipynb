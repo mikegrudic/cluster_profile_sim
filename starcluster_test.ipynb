{
 "cells": [
  {
   "cell_type": "code",
   "execution_count": 1,
   "metadata": {},
   "outputs": [
    {
     "name": "stdout",
     "output_type": "stream",
     "text": [
      "Using matplotlib backend: TkAgg\n",
      "%pylab is deprecated, use %matplotlib inline and import the required libraries.\n",
      "Populating the interactive namespace from numpy and matplotlib\n"
     ]
    }
   ],
   "source": [
    "%pylab\n",
    "from star_cluster import StarCluster\n",
    "from filterlists import * \n",
    "from joblib import Parallel, delayed\n",
    "#from slugpy.cluster_slug import cluster_slug\n",
    "\n",
    "#cs = cluster_slug(use_nebular=False,photsystem=\"Vega\",libname=\"CLUSTERSLUG_MW\")\n",
    "#cs.add_filters(messa_m51_filters)\n",
    "\n",
    "# for i in range(10):\n",
    "#     sc = StarCluster(10**4,model=\"EFF\",background=1e-2,rmax=30,scale_radius=1.0,shape=2.5)\n",
    "#     plt.plot(np.linspace(6,9,101),[sc.measure_r50(count_photons=True,age=a,method='poisson') for a in np.logspace(6,9,101)]); plt.yscale('log')\n",
    "#phot = sc.get_photometry(3e8,[\"ACS_F555W\"])\n",
    "#plt.scatter(np.log10(sc.masses),phot[:,0])\n",
    "#plt.scatter(np.log10(sc.masses),phot[:,1])\n",
    "#phot = sc.get_photometry(1e7)\n",
    "#plt.plot(np.log10(np.sort(sc.masses)), phot[sc.masses.argsort()])\n",
    "#sc.measure_bayesian(1e6,\"Mass\",cs=cs)\n",
    "\n",
    "#rc, rb = sc.get_all_radii()\n",
    "#sc.get_background_radii(),sc.get_cluster_radii()\n",
    "#%timeit sc.fit_density_profile() #full_output=True)\n",
    "\n"
   ]
  },
  {
   "cell_type": "code",
   "execution_count": 2,
   "metadata": {},
   "outputs": [],
   "source": [
    "from slugpy.cluster_slug import cluster_slug\n",
    "import numpy as np\n",
    "cs = cluster_slug(use_nebular=False,photsystem=\"Vega\")\n",
    "cs.add_filters(messa_m51_filters)"
   ]
  },
  {
   "cell_type": "code",
   "execution_count": 19,
   "metadata": {},
   "outputs": [
    {
     "data": {
      "text/plain": [
       "[1.7019706545703863,\n",
       " 1.7019706545703863,\n",
       " 1.7019706545703863,\n",
       " 1.7019706545703863,\n",
       " 1.7019706545703863,\n",
       " 1.7019706545703863,\n",
       " 1.7019706545703863,\n",
       " 1.7019706545703863,\n",
       " 1.7019706545703863,\n",
       " 1.7019706545703863]"
      ]
     },
     "execution_count": 19,
     "metadata": {},
     "output_type": "execute_result"
    }
   ],
   "source": [
    "sc = StarCluster(10**6,model=\"EFF\",background=100,cutoff=15,scale_radius=3,shape=4)\n",
    "[sc.concentration_index(age=1e8,dist_mpc=5) for _ in range(10)]"
   ]
  },
  {
   "cell_type": "code",
   "execution_count": null,
   "metadata": {},
   "outputs": [],
   "source": []
  },
  {
   "cell_type": "code",
   "execution_count": 4,
   "metadata": {},
   "outputs": [
    {
     "name": "stderr",
     "output_type": "stream",
     "text": [
      "/home/mgrudic/code/cluster_profile_sim_dev/get_isochrone.py:136: NumbaExperimentalFeatureWarning: \u001b[1m\u001b[1mFirst-class function type feature is experimental\u001b[0m\u001b[0m\n",
      "  mgrid1 = isochrone_grid[age_idx1, :, 0]\n",
      "/home/mgrudic/code/cluster_profile_sim_dev/lossfuncs.py:52: RuntimeWarning: overflow encountered in scalar power\n",
      "  * a**gam\n",
      "/home/mgrudic/code/cluster_profile_sim_dev/lossfuncs.py:50: RuntimeWarning: invalid value encountered in multiply\n",
      "  mu\n",
      "/opt/intel/oneapi/intelpython/latest/envs/2023.2.0/lib/python3.9/site-packages/numpy/lib/function_base.py:1448: RuntimeWarning: invalid value encountered in subtract\n",
      "  a = op(a[slice1], a[slice2])\n",
      "/home/mgrudic/code/cluster_profile_sim_dev/lossfuncs.py:50: RuntimeWarning: overflow encountered in scalar multiply\n",
      "  mu\n",
      "/home/mgrudic/.local/lib/python3.9/site-packages/numba/np/ufunc/dufunc.py:190: RuntimeWarning: invalid value encountered in logpoisson\n",
      "  return super().__call__(*args, **kws)\n",
      "/home/mgrudic/code/cluster_profile_sim_dev/lossfuncs.py:52: RuntimeWarning: overflow encountered in scalar power\n",
      "  * a**gam\n",
      "/home/mgrudic/code/cluster_profile_sim_dev/lossfuncs.py:52: RuntimeWarning: overflow encountered in scalar power\n",
      "  * a**gam\n",
      "/opt/intel/oneapi/intelpython/latest/envs/2023.2.0/lib/python3.9/site-packages/numpy/lib/function_base.py:1448: RuntimeWarning: invalid value encountered in subtract\n",
      "  a = op(a[slice1], a[slice2])\n",
      "/home/mgrudic/.local/lib/python3.9/site-packages/numba/np/ufunc/dufunc.py:190: RuntimeWarning: invalid value encountered in logpoisson\n",
      "  return super().__call__(*args, **kws)\n",
      "/home/mgrudic/code/cluster_profile_sim_dev/lossfuncs.py:50: RuntimeWarning: invalid value encountered in multiply\n",
      "  mu\n",
      "/opt/intel/oneapi/intelpython/latest/envs/2023.2.0/lib/python3.9/site-packages/numpy/lib/function_base.py:1448: RuntimeWarning: invalid value encountered in subtract\n",
      "  a = op(a[slice1], a[slice2])\n",
      "/home/mgrudic/.local/lib/python3.9/site-packages/numba/np/ufunc/dufunc.py:190: RuntimeWarning: invalid value encountered in logpoisson\n",
      "  return super().__call__(*args, **kws)\n",
      "/home/mgrudic/code/cluster_profile_sim_dev/lossfuncs.py:50: RuntimeWarning: overflow encountered in scalar multiply\n",
      "  mu\n",
      "/home/mgrudic/code/cluster_profile_sim_dev/lossfuncs.py:50: RuntimeWarning: overflow encountered in scalar multiply\n",
      "  mu\n",
      "/opt/intel/oneapi/intelpython/latest/envs/2023.2.0/lib/python3.9/site-packages/numpy/lib/function_base.py:1448: RuntimeWarning: invalid value encountered in subtract\n",
      "  a = op(a[slice1], a[slice2])\n",
      "/home/mgrudic/.local/lib/python3.9/site-packages/numba/np/ufunc/dufunc.py:190: RuntimeWarning: invalid value encountered in logpoisson\n",
      "  return super().__call__(*args, **kws)\n",
      "/home/mgrudic/code/cluster_profile_sim_dev/lossfuncs.py:50: RuntimeWarning: overflow encountered in scalar multiply\n",
      "  mu\n",
      "/opt/intel/oneapi/intelpython/latest/envs/2023.2.0/lib/python3.9/site-packages/numpy/lib/function_base.py:1448: RuntimeWarning: invalid value encountered in subtract\n",
      "  a = op(a[slice1], a[slice2])\n",
      "/home/mgrudic/.local/lib/python3.9/site-packages/numba/np/ufunc/dufunc.py:190: RuntimeWarning: invalid value encountered in logpoisson\n",
      "  return super().__call__(*args, **kws)\n",
      "/home/mgrudic/code/cluster_profile_sim_dev/lossfuncs.py:52: RuntimeWarning: overflow encountered in scalar power\n",
      "  * a**gam\n",
      "/home/mgrudic/code/cluster_profile_sim_dev/lossfuncs.py:50: RuntimeWarning: invalid value encountered in multiply\n",
      "  mu\n",
      "/opt/intel/oneapi/intelpython/latest/envs/2023.2.0/lib/python3.9/site-packages/numpy/lib/function_base.py:1448: RuntimeWarning: invalid value encountered in subtract\n",
      "  a = op(a[slice1], a[slice2])\n",
      "/home/mgrudic/code/cluster_profile_sim_dev/lossfuncs.py:50: RuntimeWarning: overflow encountered in scalar multiply\n",
      "  mu\n",
      "/home/mgrudic/.local/lib/python3.9/site-packages/numba/np/ufunc/dufunc.py:190: RuntimeWarning: invalid value encountered in logpoisson\n",
      "  return super().__call__(*args, **kws)\n",
      "/home/mgrudic/code/cluster_profile_sim_dev/lossfuncs.py:52: RuntimeWarning: overflow encountered in scalar power\n",
      "  * a**gam\n",
      "/home/mgrudic/code/cluster_profile_sim_dev/lossfuncs.py:50: RuntimeWarning: overflow encountered in scalar multiply\n",
      "  mu\n",
      "/opt/intel/oneapi/intelpython/latest/envs/2023.2.0/lib/python3.9/site-packages/numpy/lib/function_base.py:1448: RuntimeWarning: invalid value encountered in subtract\n",
      "  a = op(a[slice1], a[slice2])\n",
      "/home/mgrudic/code/cluster_profile_sim_dev/lossfuncs.py:52: RuntimeWarning: overflow encountered in scalar power\n",
      "  * a**gam\n",
      "/home/mgrudic/code/cluster_profile_sim_dev/lossfuncs.py:50: RuntimeWarning: invalid value encountered in multiply\n",
      "  mu\n",
      "/home/mgrudic/code/cluster_profile_sim_dev/lossfuncs.py:50: RuntimeWarning: invalid value encountered in multiply\n",
      "  mu\n",
      "/opt/intel/oneapi/intelpython/latest/envs/2023.2.0/lib/python3.9/site-packages/numpy/lib/function_base.py:1448: RuntimeWarning: invalid value encountered in subtract\n",
      "  a = op(a[slice1], a[slice2])\n",
      "/home/mgrudic/code/cluster_profile_sim_dev/lossfuncs.py:52: RuntimeWarning: overflow encountered in scalar power\n",
      "  * a**gam\n",
      "/home/mgrudic/code/cluster_profile_sim_dev/lossfuncs.py:50: RuntimeWarning: invalid value encountered in multiply\n",
      "  mu\n",
      "/opt/intel/oneapi/intelpython/latest/envs/2023.2.0/lib/python3.9/site-packages/numpy/lib/function_base.py:1448: RuntimeWarning: invalid value encountered in subtract\n",
      "  a = op(a[slice1], a[slice2])\n",
      "/home/mgrudic/code/cluster_profile_sim_dev/lossfuncs.py:50: RuntimeWarning: overflow encountered in scalar multiply\n",
      "  mu\n",
      "/opt/intel/oneapi/intelpython/latest/envs/2023.2.0/lib/python3.9/site-packages/numpy/lib/function_base.py:1448: RuntimeWarning: invalid value encountered in subtract\n",
      "  a = op(a[slice1], a[slice2])\n",
      "/home/mgrudic/code/cluster_profile_sim_dev/lossfuncs.py:52: RuntimeWarning: overflow encountered in scalar power\n",
      "  * a**gam\n",
      "/home/mgrudic/code/cluster_profile_sim_dev/lossfuncs.py:50: RuntimeWarning: invalid value encountered in multiply\n",
      "  mu\n",
      "/home/mgrudic/.local/lib/python3.9/site-packages/numba/np/ufunc/dufunc.py:190: RuntimeWarning: invalid value encountered in logpoisson\n",
      "  return super().__call__(*args, **kws)\n",
      "/home/mgrudic/code/cluster_profile_sim_dev/lossfuncs.py:50: RuntimeWarning: overflow encountered in scalar multiply\n",
      "  mu\n",
      "/opt/intel/oneapi/intelpython/latest/envs/2023.2.0/lib/python3.9/site-packages/numpy/lib/function_base.py:1448: RuntimeWarning: invalid value encountered in subtract\n",
      "  a = op(a[slice1], a[slice2])\n",
      "/home/mgrudic/.local/lib/python3.9/site-packages/numba/np/ufunc/dufunc.py:190: RuntimeWarning: invalid value encountered in logpoisson\n",
      "  return super().__call__(*args, **kws)\n",
      "/home/mgrudic/code/cluster_profile_sim_dev/lossfuncs.py:50: RuntimeWarning: invalid value encountered in multiply\n",
      "  mu\n",
      "/home/mgrudic/code/cluster_profile_sim_dev/lossfuncs.py:52: RuntimeWarning: overflow encountered in scalar power\n",
      "  * a**gam\n",
      "/home/mgrudic/code/cluster_profile_sim_dev/lossfuncs.py:50: RuntimeWarning: invalid value encountered in divide\n",
      "  mu\n",
      "/home/mgrudic/code/cluster_profile_sim_dev/lossfuncs.py:50: RuntimeWarning: overflow encountered in scalar multiply\n",
      "  mu\n",
      "/opt/intel/oneapi/intelpython/latest/envs/2023.2.0/lib/python3.9/site-packages/numpy/lib/function_base.py:1448: RuntimeWarning: invalid value encountered in subtract\n",
      "  a = op(a[slice1], a[slice2])\n",
      "/home/mgrudic/code/cluster_profile_sim_dev/lossfuncs.py:52: RuntimeWarning: overflow encountered in scalar power\n",
      "  * a**gam\n",
      "/home/mgrudic/code/cluster_profile_sim_dev/lossfuncs.py:50: RuntimeWarning: invalid value encountered in multiply\n",
      "  mu\n",
      "/home/mgrudic/.local/lib/python3.9/site-packages/numba/np/ufunc/dufunc.py:190: RuntimeWarning: invalid value encountered in logpoisson\n",
      "  return super().__call__(*args, **kws)\n",
      "/home/mgrudic/code/cluster_profile_sim_dev/density_models.py:78: RuntimeWarning: overflow encountered in scalar power\n",
      "  return np.sqrt(2 ** (2 / (gamma - 2)) - 1) * scale_radius\n",
      "/home/mgrudic/code/cluster_profile_sim_dev/density_models.py:85: RuntimeWarning: overflow encountered in scalar power\n",
      "  2 ** (1 / (-2 + gamma))\n",
      "/home/mgrudic/code/cluster_profile_sim_dev/density_models.py:85: RuntimeWarning: invalid value encountered in scalar multiply\n",
      "  2 ** (1 / (-2 + gamma))\n",
      "/home/mgrudic/code/cluster_profile_sim_dev/density_models.py:90: RuntimeWarning: overflow encountered in scalar power\n",
      "  * (1 + (1 + xmax**2) ** (1 - gamma / 2.0)) ** (2 / (-2 + gamma))\n",
      "/home/mgrudic/code/cluster_profile_sim_dev/density_models.py:89: RuntimeWarning: invalid value encountered in scalar multiply\n",
      "  - 4 ** (1 / (2 - gamma))\n",
      "/home/mgrudic/code/cluster_profile_sim_dev/density_models.py:78: RuntimeWarning: invalid value encountered in sqrt\n",
      "  return np.sqrt(2 ** (2 / (gamma - 2)) - 1) * scale_radius\n",
      "/home/mgrudic/code/cluster_profile_sim_dev/star_cluster.py:317: OptimizeWarning: Initial guess is not within the specified bounds\n",
      "  sol = minimize(\n",
      "/opt/intel/oneapi/intelpython/latest/envs/2023.2.0/lib/python3.9/site-packages/scipy/optimize/_optimize.py:863: RuntimeWarning: invalid value encountered in subtract\n",
      "  np.max(np.abs(fsim[0] - fsim[1:])) <= fatol):\n"
     ]
    },
    {
     "name": "stdout",
     "output_type": "stream",
     "text": [
      "1\n",
      "2\n"
     ]
    },
    {
     "name": "stderr",
     "output_type": "stream",
     "text": [
      "/home/mgrudic/code/cluster_profile_sim_dev/lossfuncs.py:54: RuntimeWarning: overflow encountered in scalar power\n",
      "  * (a ** (2 - gam) - (a**2 + rbins**2) ** (1 - gam / 2))\n",
      "/home/mgrudic/code/cluster_profile_sim_dev/lossfuncs.py:54: RuntimeWarning: overflow encountered in power\n",
      "  * (a ** (2 - gam) - (a**2 + rbins**2) ** (1 - gam / 2))\n",
      "/home/mgrudic/code/cluster_profile_sim_dev/lossfuncs.py:54: RuntimeWarning: invalid value encountered in subtract\n",
      "  * (a ** (2 - gam) - (a**2 + rbins**2) ** (1 - gam / 2))\n"
     ]
    },
    {
     "name": "stdout",
     "output_type": "stream",
     "text": [
      "3\n",
      "4\n",
      "5\n",
      "6\n",
      "7\n",
      "8\n",
      "9\n",
      "10\n",
      "11\n",
      "12\n",
      "13\n",
      "14\n",
      "15\n",
      "16\n",
      "17\n",
      "18\n",
      "19\n",
      "20\n",
      "21\n",
      "22\n"
     ]
    },
    {
     "name": "stderr",
     "output_type": "stream",
     "text": [
      "/home/mgrudic/code/cluster_profile_sim_dev/density_models.py:87: RuntimeWarning: invalid value encountered in sqrt\n",
      "  * np.sqrt(\n"
     ]
    },
    {
     "name": "stdout",
     "output_type": "stream",
     "text": [
      "23\n",
      "24\n",
      "25\n",
      "26\n",
      "27\n",
      "28\n",
      "29\n",
      "30\n",
      "31\n",
      "32\n",
      "33\n",
      "34\n",
      "35\n",
      "36\n",
      "37\n",
      "38\n",
      "39\n",
      "40\n",
      "41\n",
      "42\n",
      "43\n",
      "44\n",
      "45\n",
      "46\n",
      "47\n",
      "48\n",
      "49\n",
      "50\n",
      "51\n",
      "52\n",
      "53\n",
      "54\n",
      "55\n",
      "56\n",
      "57\n",
      "58\n",
      "59\n",
      "60\n",
      "61\n",
      "62\n",
      "63\n",
      "64\n",
      "65\n",
      "66\n",
      "67\n",
      "68\n",
      "69\n",
      "70\n",
      "71\n",
      "72\n",
      "73\n",
      "74\n",
      "75\n",
      "76\n",
      "77\n",
      "78\n",
      "79\n",
      "80\n",
      "81\n",
      "82\n",
      "83\n",
      "84\n",
      "85\n",
      "86\n",
      "87\n",
      "88\n",
      "89\n",
      "90\n",
      "91\n",
      "92\n",
      "93\n",
      "94\n"
     ]
    },
    {
     "ename": "KeyboardInterrupt",
     "evalue": "",
     "output_type": "error",
     "traceback": [
      "\u001b[0;31m---------------------------------------------------------------------------\u001b[0m",
      "\u001b[0;31mKeyboardInterrupt\u001b[0m                         Traceback (most recent call last)",
      "Cell \u001b[0;32mIn[4], line 36\u001b[0m\n\u001b[1;32m     34\u001b[0m measured_ages_tot \u001b[38;5;241m=\u001b[39m []\n\u001b[1;32m     35\u001b[0m params \u001b[38;5;241m=\u001b[39m \u001b[38;5;28mlist\u001b[39m(\u001b[38;5;28mzip\u001b[39m(true_masses,true_radii,ages,gammas))\n\u001b[0;32m---> 36\u001b[0m data\u001b[38;5;241m.\u001b[39mappend(\u001b[43mParallel\u001b[49m\u001b[43m(\u001b[49m\u001b[43mn_jobs\u001b[49m\u001b[38;5;241;43m=\u001b[39;49m\u001b[38;5;241;43m18\u001b[39;49m\u001b[43m,\u001b[49m\u001b[43mbackend\u001b[49m\u001b[38;5;241;43m=\u001b[39;49m\u001b[38;5;124;43m'\u001b[39;49m\u001b[38;5;124;43mthreading\u001b[39;49m\u001b[38;5;124;43m'\u001b[39;49m\u001b[43m)\u001b[49m\u001b[43m(\u001b[49m\u001b[43mdelayed\u001b[49m\u001b[43m(\u001b[49m\u001b[43mcluster_observation\u001b[49m\u001b[43m)\u001b[49m\u001b[43m(\u001b[49m\u001b[43mp\u001b[49m\u001b[43m)\u001b[49m\u001b[43m \u001b[49m\u001b[38;5;28;43;01mfor\u001b[39;49;00m\u001b[43m \u001b[49m\u001b[43mp\u001b[49m\u001b[43m \u001b[49m\u001b[38;5;129;43;01min\u001b[39;49;00m\u001b[43m \u001b[49m\u001b[43mparams\u001b[49m\u001b[43m)\u001b[49m)\n\u001b[1;32m     37\u001b[0m \u001b[38;5;28mprint\u001b[39m(\u001b[38;5;28mlen\u001b[39m(data))\n\u001b[1;32m     38\u001b[0m np\u001b[38;5;241m.\u001b[39msave(\u001b[38;5;124m\"\u001b[39m\u001b[38;5;124mmass_radius_measurements.npy\u001b[39m\u001b[38;5;124m\"\u001b[39m,data)\n",
      "File \u001b[0;32m/opt/intel/oneapi/intelpython/latest/envs/2023.2.0/lib/python3.9/site-packages/joblib/parallel.py:1098\u001b[0m, in \u001b[0;36mParallel.__call__\u001b[0;34m(self, iterable)\u001b[0m\n\u001b[1;32m   1095\u001b[0m     \u001b[38;5;28mself\u001b[39m\u001b[38;5;241m.\u001b[39m_iterating \u001b[38;5;241m=\u001b[39m \u001b[38;5;28;01mFalse\u001b[39;00m\n\u001b[1;32m   1097\u001b[0m \u001b[38;5;28;01mwith\u001b[39;00m \u001b[38;5;28mself\u001b[39m\u001b[38;5;241m.\u001b[39m_backend\u001b[38;5;241m.\u001b[39mretrieval_context():\n\u001b[0;32m-> 1098\u001b[0m     \u001b[38;5;28;43mself\u001b[39;49m\u001b[38;5;241;43m.\u001b[39;49m\u001b[43mretrieve\u001b[49m\u001b[43m(\u001b[49m\u001b[43m)\u001b[49m\n\u001b[1;32m   1099\u001b[0m \u001b[38;5;66;03m# Make sure that we get a last message telling us we are done\u001b[39;00m\n\u001b[1;32m   1100\u001b[0m elapsed_time \u001b[38;5;241m=\u001b[39m time\u001b[38;5;241m.\u001b[39mtime() \u001b[38;5;241m-\u001b[39m \u001b[38;5;28mself\u001b[39m\u001b[38;5;241m.\u001b[39m_start_time\n",
      "File \u001b[0;32m/opt/intel/oneapi/intelpython/latest/envs/2023.2.0/lib/python3.9/site-packages/joblib/parallel.py:975\u001b[0m, in \u001b[0;36mParallel.retrieve\u001b[0;34m(self)\u001b[0m\n\u001b[1;32m    973\u001b[0m \u001b[38;5;28;01mtry\u001b[39;00m:\n\u001b[1;32m    974\u001b[0m     \u001b[38;5;28;01mif\u001b[39;00m \u001b[38;5;28mgetattr\u001b[39m(\u001b[38;5;28mself\u001b[39m\u001b[38;5;241m.\u001b[39m_backend, \u001b[38;5;124m'\u001b[39m\u001b[38;5;124msupports_timeout\u001b[39m\u001b[38;5;124m'\u001b[39m, \u001b[38;5;28;01mFalse\u001b[39;00m):\n\u001b[0;32m--> 975\u001b[0m         \u001b[38;5;28mself\u001b[39m\u001b[38;5;241m.\u001b[39m_output\u001b[38;5;241m.\u001b[39mextend(\u001b[43mjob\u001b[49m\u001b[38;5;241;43m.\u001b[39;49m\u001b[43mget\u001b[49m\u001b[43m(\u001b[49m\u001b[43mtimeout\u001b[49m\u001b[38;5;241;43m=\u001b[39;49m\u001b[38;5;28;43mself\u001b[39;49m\u001b[38;5;241;43m.\u001b[39;49m\u001b[43mtimeout\u001b[49m\u001b[43m)\u001b[49m)\n\u001b[1;32m    976\u001b[0m     \u001b[38;5;28;01melse\u001b[39;00m:\n\u001b[1;32m    977\u001b[0m         \u001b[38;5;28mself\u001b[39m\u001b[38;5;241m.\u001b[39m_output\u001b[38;5;241m.\u001b[39mextend(job\u001b[38;5;241m.\u001b[39mget())\n",
      "File \u001b[0;32m/opt/intel/oneapi/intelpython/latest/envs/2023.2.0/lib/python3.9/multiprocessing/pool.py:765\u001b[0m, in \u001b[0;36mApplyResult.get\u001b[0;34m(self, timeout)\u001b[0m\n\u001b[1;32m    764\u001b[0m \u001b[38;5;28;01mdef\u001b[39;00m \u001b[38;5;21mget\u001b[39m(\u001b[38;5;28mself\u001b[39m, timeout\u001b[38;5;241m=\u001b[39m\u001b[38;5;28;01mNone\u001b[39;00m):\n\u001b[0;32m--> 765\u001b[0m     \u001b[38;5;28;43mself\u001b[39;49m\u001b[38;5;241;43m.\u001b[39;49m\u001b[43mwait\u001b[49m\u001b[43m(\u001b[49m\u001b[43mtimeout\u001b[49m\u001b[43m)\u001b[49m\n\u001b[1;32m    766\u001b[0m     \u001b[38;5;28;01mif\u001b[39;00m \u001b[38;5;129;01mnot\u001b[39;00m \u001b[38;5;28mself\u001b[39m\u001b[38;5;241m.\u001b[39mready():\n\u001b[1;32m    767\u001b[0m         \u001b[38;5;28;01mraise\u001b[39;00m \u001b[38;5;167;01mTimeoutError\u001b[39;00m\n",
      "File \u001b[0;32m/opt/intel/oneapi/intelpython/latest/envs/2023.2.0/lib/python3.9/multiprocessing/pool.py:762\u001b[0m, in \u001b[0;36mApplyResult.wait\u001b[0;34m(self, timeout)\u001b[0m\n\u001b[1;32m    761\u001b[0m \u001b[38;5;28;01mdef\u001b[39;00m \u001b[38;5;21mwait\u001b[39m(\u001b[38;5;28mself\u001b[39m, timeout\u001b[38;5;241m=\u001b[39m\u001b[38;5;28;01mNone\u001b[39;00m):\n\u001b[0;32m--> 762\u001b[0m     \u001b[38;5;28;43mself\u001b[39;49m\u001b[38;5;241;43m.\u001b[39;49m\u001b[43m_event\u001b[49m\u001b[38;5;241;43m.\u001b[39;49m\u001b[43mwait\u001b[49m\u001b[43m(\u001b[49m\u001b[43mtimeout\u001b[49m\u001b[43m)\u001b[49m\n",
      "File \u001b[0;32m/opt/intel/oneapi/intelpython/latest/envs/2023.2.0/lib/python3.9/threading.py:581\u001b[0m, in \u001b[0;36mEvent.wait\u001b[0;34m(self, timeout)\u001b[0m\n\u001b[1;32m    579\u001b[0m signaled \u001b[38;5;241m=\u001b[39m \u001b[38;5;28mself\u001b[39m\u001b[38;5;241m.\u001b[39m_flag\n\u001b[1;32m    580\u001b[0m \u001b[38;5;28;01mif\u001b[39;00m \u001b[38;5;129;01mnot\u001b[39;00m signaled:\n\u001b[0;32m--> 581\u001b[0m     signaled \u001b[38;5;241m=\u001b[39m \u001b[38;5;28;43mself\u001b[39;49m\u001b[38;5;241;43m.\u001b[39;49m\u001b[43m_cond\u001b[49m\u001b[38;5;241;43m.\u001b[39;49m\u001b[43mwait\u001b[49m\u001b[43m(\u001b[49m\u001b[43mtimeout\u001b[49m\u001b[43m)\u001b[49m\n\u001b[1;32m    582\u001b[0m \u001b[38;5;28;01mreturn\u001b[39;00m signaled\n",
      "File \u001b[0;32m/opt/intel/oneapi/intelpython/latest/envs/2023.2.0/lib/python3.9/threading.py:312\u001b[0m, in \u001b[0;36mCondition.wait\u001b[0;34m(self, timeout)\u001b[0m\n\u001b[1;32m    310\u001b[0m \u001b[38;5;28;01mtry\u001b[39;00m:    \u001b[38;5;66;03m# restore state no matter what (e.g., KeyboardInterrupt)\u001b[39;00m\n\u001b[1;32m    311\u001b[0m     \u001b[38;5;28;01mif\u001b[39;00m timeout \u001b[38;5;129;01mis\u001b[39;00m \u001b[38;5;28;01mNone\u001b[39;00m:\n\u001b[0;32m--> 312\u001b[0m         \u001b[43mwaiter\u001b[49m\u001b[38;5;241;43m.\u001b[39;49m\u001b[43macquire\u001b[49m\u001b[43m(\u001b[49m\u001b[43m)\u001b[49m\n\u001b[1;32m    313\u001b[0m         gotit \u001b[38;5;241m=\u001b[39m \u001b[38;5;28;01mTrue\u001b[39;00m\n\u001b[1;32m    314\u001b[0m     \u001b[38;5;28;01melse\u001b[39;00m:\n",
      "\u001b[0;31mKeyboardInterrupt\u001b[0m: "
     ]
    }
   ],
   "source": [
    "#from random_cluster_population import *\n",
    "from density_models import *\n",
    "import numpy as np\n",
    "from star_cluster import StarCluster\n",
    "from filterlists import * \n",
    "\n",
    "#ML_age, ML = np.loadtxt(\"Bruzual_Charlot_2003_ML_vs_Age.csv\").T\n",
    "groundtruth_model = \"EFF\"\n",
    "fit_model = \"EFF\"\n",
    "data = []\n",
    "#data = list(np.load(\"mass_radius_measurements.npy\"))\n",
    "slopes = []\n",
    "#for i in range(1):\n",
    "while True:\n",
    "    #masses, ages, gammas = random_cluster_population(100,Mmin=5e3)\n",
    "    Mmin, Mmax = 2e3, 1e6\n",
    "    tmin, tmax = 3e6,1e9\n",
    "    rmax = 15\n",
    "    nclusters = 360\n",
    "    gammas = np.random.uniform(2.1,3,nclusters)\n",
    "    x = np.random.rand(nclusters)\n",
    "    true_masses = Mmax * Mmin / (Mmax * (1 - x) + Mmin * x)\n",
    "    true_radii = 3 * (true_masses/1e4)**(1./3)\n",
    "    ages = 10**(np.log10(tmin)+np.log10(tmax/tmin)*np.random.rand(nclusters))\n",
    "    r50s = []\n",
    "    r50s_cutoff = []\n",
    "    masses = []\n",
    "    masses_tot = []\n",
    "    masses_ap = []\n",
    "    #true_radii = []\n",
    "    tm = []\n",
    "    ta = []\n",
    "    measured_ages = []\n",
    "    measured_ages_tot = []\n",
    "    params = list(zip(true_masses,true_radii,ages,gammas))\n",
    "    data.append(Parallel(n_jobs=18,backend='threading')(delayed(cluster_observation)(p) for p in params))\n",
    "    print(len(data))\n",
    "    np.save(\"mass_radius_measurements.npy\",data)\n",
    "    #print(data[-1])\n",
    "    #true_masses =[]\n",
    "    #zip(true_masses,true_radii,ages,gammas)\n",
    "    # for mass, true_radius,age, gamma in zip(true_masses,true_radii,ages,gammas):\n",
    "     #   print(cluster_observation(mass,age,gamma,true_radius,rmax=15,fit_model=\"EFF\"))\n",
    "        #continue\n",
    "    #print(mass, true_radius,age, gamma) # ,\n",
    "    #     numstars = int(mass/0.5+0.5)\n",
    "    #     scale_radius = true_radius/model_r50(gamma,1.,groundtruth_model,cutoff_radius=rmax)\n",
    "    #     sc = StarCluster(num_stars=numstars, scale_radius=scale_radius, shape=gamma, background=1e-2,model=groundtruth_model,cutoff=rmax)\n",
    "    #     sc.get_cluster_radii()\n",
    "    #     measured_mass = 10**sc.measure_bayesian(age,\"Mass\",cs=cs,aperture=rmax)[1]\n",
    "    #     measured_mass_tot = 10**sc.measure_bayesian(age,\"Mass\",cs=cs,aperture=np.inf)[1]\n",
    "    #     measured_age = 10**sc.measure_bayesian(age,\"Age\",cs=cs,aperture=rmax)[1]\n",
    "    #     measured_age_tot = 10**sc.measure_bayesian(age,\"Age\",cs=cs,aperture=np.inf)[1]\n",
    "    #     params = sc.fit_density_profile(count_photons=True, age=age,aperture=rmax)\n",
    "    #     gamma_measured = params[3]\n",
    "    #     scale_radius_measured = params[2]\n",
    "    #     r50 = sc.measure_r50(count_photons=True,age=age, model=fit_model,aperture=rmax)\n",
    "    #     r50_cutoff = model_r50(gamma_measured, scale_radius_measured, cutoff_radius=rmax, model=\"EFF_cutoff\") # sc.measure_r50(count_photons=True,age=age, model=\"EFF_cutoff\",aperture=rmax)\n",
    "    #     masses_ap.append(measured_mass)        \n",
    "    #     fac = mass_aperture_fac(gamma_measured,scale_radius_measured,rmax,fit_model,cutoff_radius=rmax)\n",
    "    #     #print(r50, gamma_measured, scale_radius_measured)\n",
    "    #     measured_mass *= fac #mass_aperture_fac(gamma_measured,scale_radius_measured,rmax,'EFF')\n",
    "    #     masses.append(measured_mass*fac)\n",
    "    #     masses_tot.append(measured_mass_tot)\n",
    "    #     measured_ages_tot.append(measured_age_tot)\n",
    "    #     r50s.append(r50)\n",
    "    #     r50s_cutoff.append(r50_cutoff)\n",
    "    #     tm.append(mass)\n",
    "    #     ta.append(age)\n",
    "    #     true_radii.append(3*(mass/1e4)**(1./3))\n",
    "    #     measured_ages.append(measured_age)\n",
    "    # cut = np.isfinite(r50s) * (np.array(r50s)<100) * (np.array(r50s) > 0.1)\n",
    "    # slopes.append(np.polyfit(np.log10(masses)[cut],np.log10(r50s)[cut],1)[0])\n",
    "    # data.append([true_masses,true_radii,ages,gammas,masses,masses_ap,masses_tot,r50s,r50s_cutoff,measured_ages,measured_ages_tot])\n",
    "    # print(slopes[-1])\n",
    "#print(np.median(slopes),np.std(slopes))"
   ]
  },
  {
   "cell_type": "code",
   "execution_count": 9,
   "metadata": {},
   "outputs": [
    {
     "data": {
      "text/plain": [
       "array([1.82299365, 2.45437349, 1.84848484, 3.77988089, 3.45069262,\n",
       "       2.24964302, 2.52956415, 2.04027297, 1.88360335, 1.79678201,\n",
       "       3.47111369, 6.53325965, 2.88937365, 3.07201403, 2.24678125,\n",
       "       2.90660131, 2.88181212, 1.9815063 , 2.48255863, 2.34706745,\n",
       "       1.83571146, 1.80253265, 3.28976357, 1.91338117, 2.13104145,\n",
       "       2.01167993, 4.12267373, 3.02621164, 1.83029937, 5.30620208,\n",
       "       4.21491898, 2.08890469, 2.44636947, 2.02717221, 2.0786934 ,\n",
       "       2.0561395 , 3.89469988, 1.92973223, 1.82692146, 1.9366991 ,\n",
       "       2.24890685, 3.23848892, 2.18491167, 2.27173852, 2.00476104,\n",
       "       2.93962388, 2.77759761, 3.7275728 , 2.69025965, 3.11204092,\n",
       "       2.17744296, 4.96720483, 1.88419649, 3.00001189, 2.04085917,\n",
       "       1.97535179, 2.06357502, 2.66797712, 2.30131611, 3.84357568,\n",
       "       1.94546384, 2.60701392, 2.61047737, 5.17406294, 3.60389748,\n",
       "       1.95003284, 2.23833278, 1.88031671, 1.77473115, 2.99116949,\n",
       "       1.75897371, 4.85930445, 7.9264989 , 2.49187995, 1.7963709 ,\n",
       "       2.39920214, 2.46716208, 2.38935275, 3.42904226, 1.87203492,\n",
       "       2.36872942, 2.1299799 , 2.19910782, 1.99726403, 1.78248087,\n",
       "       1.81785376, 2.72340822, 9.54655951, 5.66011206, 2.71223562,\n",
       "       4.00348559, 2.4628087 , 2.72036553, 1.80588041, 2.05602077,\n",
       "       3.46488323, 1.77788739, 2.12390712, 1.76197789, 4.13528059])"
      ]
     },
     "execution_count": 9,
     "metadata": {},
     "output_type": "execute_result"
    }
   ],
   "source": [
    "#for a in zip(true_masses,true_radii,ages,gammas):\n",
    "    #print(a)\n",
    "3 * (true_masses/1e4)**(1./3)"
   ]
  },
  {
   "cell_type": "code",
   "execution_count": 9,
   "metadata": {},
   "outputs": [
    {
     "data": {
      "text/plain": [
       "array([[ 1.41568756e+01,  7.32052473e-01],\n",
       "       [ 5.57445784e+00,  4.74395780e-01],\n",
       "       [ 1.03889791e+01, -6.61032669e-01],\n",
       "       [ 6.02126453e+00,  4.85441206e-01],\n",
       "       [ 1.20681113e+01,  4.19971011e-01],\n",
       "       [ 5.63669246e+00,  4.74568562e-01],\n",
       "       [ 4.76167896e+00, -2.42073119e-01],\n",
       "       [ 3.96052990e+00, -9.03154655e-02],\n",
       "       [ 7.25659290e+00,  4.80517921e-02],\n",
       "       [ 3.69061533e+00,  1.48308844e-01],\n",
       "       [ 4.04969434e+00,  5.82526256e-01],\n",
       "       [            inf,  3.08912137e-01],\n",
       "       [ 4.69073831e+00,  6.28117436e-01],\n",
       "       [ 4.12240758e+00,  3.20088354e-01],\n",
       "       [ 2.00865120e+01,  7.49549509e-01],\n",
       "       [ 3.93433235e+00,  2.15967628e-01],\n",
       "       [ 4.57829253e+00,  7.00357327e-01],\n",
       "       [ 4.15099138e+00, -1.31764799e-01],\n",
       "       [ 3.87196976e+00,  3.53472340e-01],\n",
       "       [ 3.24015589e+00, -5.14038648e-01],\n",
       "       [ 5.73031636e+00,  3.52010247e-01],\n",
       "       [ 3.80466744e+00,  2.98341707e-01],\n",
       "       [ 4.91998828e+00,  3.67529913e-02],\n",
       "       [ 4.43310588e+00,  7.46809900e-01],\n",
       "       [            inf,  2.01400017e-01],\n",
       "       [ 5.02362715e+00, -9.85458205e-04],\n",
       "       [ 4.80147584e+00,  7.14292412e-01],\n",
       "       [ 3.80466447e+00,  2.53517135e-02],\n",
       "       [ 7.26245295e+00,  3.83858534e-01],\n",
       "       [ 5.27882583e+00,  4.90726458e-01],\n",
       "       [ 9.85779823e+00, -6.78206634e-01],\n",
       "       [ 1.09878842e+01,  1.09415660e-01],\n",
       "       [ 4.79516745e+00,  9.26730171e-02],\n",
       "       [ 4.62290995e+00,  4.77579992e-01],\n",
       "       [ 3.55963632e+00, -2.86086443e-01],\n",
       "       [ 4.31154683e+00,  5.33602480e-01],\n",
       "       [ 5.74187595e+00,  3.65490500e-01],\n",
       "       [ 4.03012310e+00,  6.12569844e-02],\n",
       "       [ 2.16585972e+01,  4.43087059e-01],\n",
       "       [ 4.68918894e+00,  1.80447391e+00],\n",
       "       [ 5.24212037e+00,  5.19800516e-01],\n",
       "       [ 4.01134218e+00,  5.38168525e-01],\n",
       "       [ 4.08321807e+00,  7.77857224e-01],\n",
       "       [ 9.11471359e+00, -6.92754556e-01],\n",
       "       [ 6.39573882e+00,  6.39693495e-01],\n",
       "       [            inf,  4.52968920e-01],\n",
       "       [ 4.86310601e+00,  2.41237904e-01],\n",
       "       [ 2.96680913e+01,  4.91732707e-01],\n",
       "       [ 5.84842496e+00,  1.99609317e-01],\n",
       "       [            inf,  5.45426215e-01],\n",
       "       [ 3.80708680e+00,  3.57385237e-01],\n",
       "       [ 3.57054810e+00, -8.05905888e-01],\n",
       "       [ 4.66004221e+00,  1.06132753e-01],\n",
       "       [            inf,  1.54354978e-01],\n",
       "       [ 1.61103348e+01,  9.41619682e-01],\n",
       "       [ 5.15777864e+00,  2.87438250e-01],\n",
       "       [ 5.07240878e+00,  3.24915137e-01],\n",
       "       [ 4.08405304e+00,  8.47429989e-01],\n",
       "       [ 4.19739793e+00, -4.29613685e-03],\n",
       "       [ 3.91394686e+00,  8.25861958e-02],\n",
       "       [ 4.57357121e+00,  4.41581414e-01],\n",
       "       [ 3.84355283e+00,  1.60424906e-01],\n",
       "       [ 4.05608316e+00,  2.79139499e-01],\n",
       "       [ 3.53501572e+00,  1.58797719e-02],\n",
       "       [ 4.49988453e+00,  8.31292222e-01],\n",
       "       [            inf, -1.12131067e-01],\n",
       "       [ 4.57052207e+00,  5.90106974e-01],\n",
       "       [ 3.84268604e+00,  3.04146122e-01],\n",
       "       [ 6.96373735e+00,  5.77123260e-01],\n",
       "       [ 3.17483160e+00, -6.81827134e-01],\n",
       "       [ 5.26013056e+00, -5.45192349e-01],\n",
       "       [ 4.17834289e+00, -3.43523624e-02],\n",
       "       [ 5.93500083e+00,  1.56106188e-01],\n",
       "       [ 4.64466247e+00,  5.18933669e-01],\n",
       "       [ 5.39571865e+00,  3.27043171e-01],\n",
       "       [ 1.49745397e+01,  8.57450666e-01],\n",
       "       [ 3.56077725e+00,  4.68110159e-02],\n",
       "       [ 3.57285794e+00,  1.19682751e-01],\n",
       "       [ 4.03643500e+00, -4.46498790e-01]])"
      ]
     },
     "execution_count": 9,
     "metadata": {},
     "output_type": "execute_result"
    }
   ],
   "source": [
    "#fac = np.array([mass_aperture_fac(gamma_measured,scale_radius_measured,rmax,fit_model,cutoff_radius=rmax)\n",
    "np.c_[np.log10(masses)[cut] ,np.log10(r50s)[cut]]"
   ]
  },
  {
   "cell_type": "code",
   "execution_count": 4,
   "metadata": {},
   "outputs": [
    {
     "data": {
      "text/plain": [
       "(778, 8, 100)"
      ]
     },
     "execution_count": 4,
     "metadata": {},
     "output_type": "execute_result"
    }
   ],
   "source": [
    "np.load(\"mass_radius_measurements.npy\").shape\n",
    "#data.shape"
   ]
  },
  {
   "cell_type": "code",
   "execution_count": 3,
   "metadata": {},
   "outputs": [
    {
     "ename": "NameError",
     "evalue": "name 'masses' is not defined",
     "output_type": "error",
     "traceback": [
      "\u001b[0;31m---------------------------------------------------------------------------\u001b[0m",
      "\u001b[0;31mNameError\u001b[0m                                 Traceback (most recent call last)",
      "Cell \u001b[0;32mIn[3], line 3\u001b[0m\n\u001b[1;32m      1\u001b[0m \u001b[38;5;66;03m#sc.measure_bayesian(age,\"Mass\",cs=cs)\u001b[39;00m\n\u001b[1;32m      2\u001b[0m plt\u001b[38;5;241m.\u001b[39mfigure(figsize\u001b[38;5;241m=\u001b[39m(\u001b[38;5;241m4\u001b[39m,\u001b[38;5;241m4\u001b[39m))\n\u001b[0;32m----> 3\u001b[0m plt\u001b[38;5;241m.\u001b[39mloglog(\u001b[43mmasses\u001b[49m,r50s,\u001b[38;5;124m'\u001b[39m\u001b[38;5;124m.\u001b[39m\u001b[38;5;124m'\u001b[39m,label\u001b[38;5;241m=\u001b[39m\u001b[38;5;124m\"\u001b[39m\u001b[38;5;124mMeasured\u001b[39m\u001b[38;5;124m\"\u001b[39m)\n\u001b[1;32m      4\u001b[0m plt\u001b[38;5;241m.\u001b[39mloglog(tm,\u001b[38;5;241m3\u001b[39m\u001b[38;5;241m*\u001b[39m(np\u001b[38;5;241m.\u001b[39marray(tm)\u001b[38;5;241m/\u001b[39m\u001b[38;5;241m1e4\u001b[39m)\u001b[38;5;241m*\u001b[39m\u001b[38;5;241m*\u001b[39m(\u001b[38;5;241m1.\u001b[39m\u001b[38;5;241m/\u001b[39m\u001b[38;5;241m3\u001b[39m),\u001b[38;5;124m'\u001b[39m\u001b[38;5;124m.\u001b[39m\u001b[38;5;124m'\u001b[39m,label\u001b[38;5;241m=\u001b[39m\u001b[38;5;124m\"\u001b[39m\u001b[38;5;124mTrue\u001b[39m\u001b[38;5;124m\"\u001b[39m)\n\u001b[1;32m      5\u001b[0m \u001b[38;5;28;01mfor\u001b[39;00m i \u001b[38;5;129;01min\u001b[39;00m \u001b[38;5;28mrange\u001b[39m(\u001b[38;5;28mlen\u001b[39m(tm)):\n",
      "\u001b[0;31mNameError\u001b[0m: name 'masses' is not defined"
     ]
    }
   ],
   "source": [
    "#sc.measure_bayesian(age,\"Mass\",cs=cs)\n",
    "plt.figure(figsize=(4,4))\n",
    "plt.loglog(masses,r50s,'.',label=\"Measured\")\n",
    "plt.loglog(tm,3*(np.array(tm)/1e4)**(1./3),'.',label=\"True\")\n",
    "for i in range(len(tm)):\n",
    "    plt.loglog([tm[i],masses[i]],[3*(tm[i]/1e4)**(1./3),r50s[i]],color='black',alpha=0.3)\n",
    "plt.xlabel(r\"$M\\,\\left(M_\\odot\\right)$\")\n",
    "plt.ylabel(r\"$R_{\\rm eff}\\,\\left(\\rm pc\\right)$\")\n",
    "plt.legend()\n",
    "cut = np.isfinite(r50s) * (np.array(r50s)<100) * (np.array(r50s) > 0.1)\n",
    "#print(cut.sum())\n",
    "fit = np.polyfit(np.log10(masses)[cut],np.log10(r50s)[cut],1)\n",
    "logr_model = np.polyval(fit, np.log10(masses)[cut])\n",
    "np.std(logr_model - np.log10(r50s)[cut]), fit[0]\n"
   ]
  },
  {
   "cell_type": "code",
   "execution_count": 23,
   "metadata": {},
   "outputs": [
    {
     "ename": "TypeError",
     "evalue": "iteration over a 0-d array",
     "output_type": "error",
     "traceback": [
      "\u001b[0;31m---------------------------------------------------------------------------\u001b[0m",
      "\u001b[0;31mTypeError\u001b[0m                                 Traceback (most recent call last)",
      "Cell \u001b[0;32mIn[23], line 1\u001b[0m\n\u001b[0;32m----> 1\u001b[0m \u001b[43mnp\u001b[49m\u001b[38;5;241;43m.\u001b[39;49m\u001b[43mpolyval\u001b[49m\u001b[43m(\u001b[49m\u001b[43mfit\u001b[49m\u001b[43m,\u001b[49m\u001b[43m \u001b[49m\u001b[43mnp\u001b[49m\u001b[38;5;241;43m.\u001b[39;49m\u001b[43mlog10\u001b[49m\u001b[43m(\u001b[49m\u001b[43mmasses\u001b[49m\u001b[43m)\u001b[49m\u001b[43m[\u001b[49m\u001b[43mcut\u001b[49m\u001b[43m]\u001b[49m\u001b[43m)\u001b[49m\n",
      "File \u001b[0;32m<__array_function__ internals>:200\u001b[0m, in \u001b[0;36mpolyval\u001b[0;34m(*args, **kwargs)\u001b[0m\n",
      "File \u001b[0;32m/opt/intel/oneapi/intelpython/latest/envs/2023.2.0/lib/python3.9/site-packages/numpy/lib/polynomial.py:778\u001b[0m, in \u001b[0;36mpolyval\u001b[0;34m(p, x)\u001b[0m\n\u001b[1;32m    776\u001b[0m     x \u001b[38;5;241m=\u001b[39m NX\u001b[38;5;241m.\u001b[39masanyarray(x)\n\u001b[1;32m    777\u001b[0m     y \u001b[38;5;241m=\u001b[39m NX\u001b[38;5;241m.\u001b[39mzeros_like(x)\n\u001b[0;32m--> 778\u001b[0m \u001b[38;5;28;01mfor\u001b[39;00m pv \u001b[38;5;129;01min\u001b[39;00m p:\n\u001b[1;32m    779\u001b[0m     y \u001b[38;5;241m=\u001b[39m y \u001b[38;5;241m*\u001b[39m x \u001b[38;5;241m+\u001b[39m pv\n\u001b[1;32m    780\u001b[0m \u001b[38;5;28;01mreturn\u001b[39;00m y\n",
      "\u001b[0;31mTypeError\u001b[0m: iteration over a 0-d array"
     ]
    }
   ],
   "source": [
    "np.polyval(fit, np.log10(masses)[cut])"
   ]
  },
  {
   "cell_type": "code",
   "execution_count": 4,
   "metadata": {},
   "outputs": [
    {
     "ename": "NameError",
     "evalue": "name 'filt' is not defined",
     "output_type": "error",
     "traceback": [
      "\u001b[0;31m---------------------------------------------------------------------------\u001b[0m",
      "\u001b[0;31mNameError\u001b[0m                                 Traceback (most recent call last)",
      "Cell \u001b[0;32mIn[4], line 3\u001b[0m\n\u001b[1;32m      1\u001b[0m \u001b[39mimport\u001b[39;00m \u001b[39mpickle\u001b[39;00m\n\u001b[1;32m      2\u001b[0m filt, track, grids \u001b[39m=\u001b[39m pickle\u001b[39m.\u001b[39mload(\n\u001b[0;32m----> 3\u001b[0m     \u001b[39mopen\u001b[39m(\u001b[39mf\u001b[39m\u001b[39m\"\u001b[39m\u001b[39mlumgrids/mass_lum_grid_\u001b[39m\u001b[39m{\u001b[39;00mfilt\u001b[39m}\u001b[39;00m\u001b[39m_\u001b[39m\u001b[39m{\u001b[39;00mtrack\u001b[39m}\u001b[39;00m\u001b[39m.dump\u001b[39m\u001b[39m\"\u001b[39m, \u001b[39m\"\u001b[39m\u001b[39mrb\u001b[39m\u001b[39m\"\u001b[39m)\n\u001b[1;32m      4\u001b[0m )\n\u001b[1;32m      5\u001b[0m mgrid, Lgrid \u001b[39m=\u001b[39m grids[age_yr]\n\u001b[1;32m      6\u001b[0m logmgrid \u001b[39m=\u001b[39m np\u001b[39m.\u001b[39mlog10(mgrid)\n",
      "\u001b[0;31mNameError\u001b[0m: name 'filt' is not defined"
     ]
    }
   ],
   "source": [
    "import pickle\n",
    "f\n",
    "filt, track, grids = pickle.load(\n",
    "    open(f\"lumgrids/mass_lum_grid_{filt}_{track}.dump\", \"rb\")\n",
    ")\n",
    "mgrid, Lgrid = grids[age_yr]\n",
    "logmgrid = np.log10(mgrid)\n",
    "logLgrid = np.log10(Lgrid)\n",
    "mmax = mgrid[np.isfinite(logLgrid)].max()"
   ]
  },
  {
   "cell_type": "code",
   "execution_count": 5,
   "metadata": {},
   "outputs": [
    {
     "data": {
      "text/plain": [
       "100000"
      ]
     },
     "execution_count": 5,
     "metadata": {},
     "output_type": "execute_result"
    }
   ],
   "source": [
    "sc.num_stars"
   ]
  },
  {
   "cell_type": "code",
   "execution_count": 6,
   "metadata": {},
   "outputs": [
    {
     "data": {
      "text/plain": [
       "1.0"
      ]
     },
     "execution_count": 6,
     "metadata": {},
     "output_type": "execute_result"
    }
   ],
   "source": [
    "1 - (1 + np.inf * np.inf) ** (1 - 0.5 * 2.5)\n"
   ]
  },
  {
   "cell_type": "code",
   "execution_count": 21,
   "metadata": {},
   "outputs": [
    {
     "name": "stdout",
     "output_type": "stream",
     "text": [
      "(10000,) (10000,)\n",
      "[1.59629120e+07 3.35326596e-10 2.74310038e-01 1.95914324e+00\n",
      " 1.50000000e+01]\n"
     ]
    },
    {
     "data": {
      "text/plain": [
       "2.1841531084074854"
      ]
     },
     "execution_count": 21,
     "metadata": {},
     "output_type": "execute_result"
    }
   ],
   "source": [
    "from star_cluster import *\n",
    "sc = StarCluster(10**4,model=\"EFF_cutoff\",background=1e-6,scale_radius=1.0,shape=2.5,cutoff=15)\n",
    "#sc.plot_density_profile()\n",
    "sc.measure_r50(count_photons=True,age=1e8, model=\"EFF_cutoff\",aperture=15)\n",
    "#sc.measure_r50(model=\"EFF_cutoff\",count_photons=True), model_r50(2.5,1,\"EFF_cutoff\",15)"
   ]
  },
  {
   "cell_type": "code",
   "execution_count": 3,
   "metadata": {},
   "outputs": [
    {
     "data": {
      "text/plain": [
       "1000000"
      ]
     },
     "execution_count": 3,
     "metadata": {},
     "output_type": "execute_result"
    }
   ],
   "source": [
    "len(sc.get_all_radii()[0])"
   ]
  },
  {
   "cell_type": "code",
   "execution_count": null,
   "metadata": {},
   "outputs": [],
   "source": []
  }
 ],
 "metadata": {
  "kernelspec": {
   "display_name": "2023.2.0",
   "language": "python",
   "name": "python3"
  },
  "language_info": {
   "codemirror_mode": {
    "name": "ipython",
    "version": 3
   },
   "file_extension": ".py",
   "mimetype": "text/x-python",
   "name": "python",
   "nbconvert_exporter": "python",
   "pygments_lexer": "ipython3",
   "version": "3.9.16"
  }
 },
 "nbformat": 4,
 "nbformat_minor": 2
}
