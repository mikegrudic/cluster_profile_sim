{
 "cells": [
  {
   "cell_type": "code",
   "execution_count": 31,
   "metadata": {},
   "outputs": [
    {
     "name": "stdout",
     "output_type": "stream",
     "text": [
      "Using matplotlib backend: TkAgg\n",
      "%pylab is deprecated, use %matplotlib inline and import the required libraries.\n",
      "Populating the interactive namespace from numpy and matplotlib\n"
     ]
    },
    {
     "name": "stderr",
     "output_type": "stream",
     "text": [
      "/home/mike/code/cluster_profile_sim/lossfuncs.py:45: RuntimeWarning: invalid value encountered in true_divide\n",
      "  mu\n",
      "/home/mike/code/cluster_profile_sim/density_models.py:65: RuntimeWarning: overflow encountered in double_scalars\n",
      "  return np.sqrt(2 ** (2 / (gamma - 2)) - 1) * scale_radius\n",
      "/home/mike/code/cluster_profile_sim/star_cluster.py:299: OptimizeWarning: Initial guess is not within the specified bounds\n",
      "  sol = minimize(\n"
     ]
    }
   ],
   "source": [
    "%pylab\n",
    "from star_cluster import StarCluster\n",
    "from filterlists import * \n",
    "#from slugpy.cluster_slug import cluster_slug\n",
    "\n",
    "#cs = cluster_slug(use_nebular=False,photsystem=\"Vega\",libname=\"CLUSTERSLUG_MW\")\n",
    "#cs.add_filters(messa_m51_filters)\n",
    "\n",
    "for i in range(10):\n",
    "    sc = StarCluster(10**4,model=\"EFF\",background=1e-2,rmax=30,scale_radius=1.0,shape=2.5)\n",
    "    plt.plot(np.linspace(6,9,101),[sc.measure_r50(count_photons=True,age=a,method='poisson') for a in np.logspace(6,9,101)]); plt.yscale('log')\n",
    "#phot = sc.get_photometry(3e8,[\"ACS_F555W\"])\n",
    "#plt.scatter(np.log10(sc.masses),phot[:,0])\n",
    "#plt.scatter(np.log10(sc.masses),phot[:,1])\n",
    "#phot = sc.get_photometry(1e7)\n",
    "#plt.plot(np.log10(np.sort(sc.masses)), phot[sc.masses.argsort()])\n",
    "#sc.measure_bayesian(1e6,\"Mass\",cs=cs)\n",
    "\n",
    "#rc, rb = sc.get_all_radii()\n",
    "#sc.get_background_radii(),sc.get_cluster_radii()\n",
    "#%timeit sc.fit_density_profile() #full_output=True)\n",
    "\n"
   ]
  },
  {
   "cell_type": "code",
   "execution_count": 4,
   "metadata": {},
   "outputs": [
    {
     "name": "stdout",
     "output_type": "stream",
     "text": [
      "Using matplotlib backend: TkAgg\n",
      "%pylab is deprecated, use %matplotlib inline and import the required libraries.\n",
      "Populating the interactive namespace from numpy and matplotlib\n",
      "0.4184133857731702\n",
      "0.3653060077862659\n",
      "0.40766391432426313\n",
      "0.304929932458166\n",
      "0.3364337214707629\n",
      "0.3437450001091786\n",
      "0.34057975091498766\n",
      "0.3056346678974531\n",
      "0.35635166916487304\n",
      "0.2699066214404342\n",
      "0.28638984136319207\n",
      "0.37846639806609056\n",
      "0.3053371993230903\n",
      "0.2439953058160032\n",
      "0.42235284461906475\n",
      "0.41026467957723545\n",
      "0.22228270431570182\n",
      "0.3874759861821328\n",
      "0.410979166444639\n",
      "0.3228227250599927\n",
      "0.3484350435428574\n",
      "0.3074667007576818\n",
      "0.28074608961878894\n",
      "0.2810720172294127\n",
      "0.31178630673088936\n",
      "0.25654762957531974\n",
      "0.21028935109634922\n",
      "0.3310390275335735\n",
      "0.33580351786350826\n",
      "0.37342401040094836\n",
      "0.2851460336409353\n",
      "0.34184043617050586\n",
      "0.3010566584235569\n",
      "0.3899245108748547\n",
      "0.4319320790733438\n",
      "0.3954553710782372\n",
      "0.34938692835236\n",
      "0.4318651879293321\n",
      "0.3880643019347035\n",
      "0.33800341181789034\n",
      "0.326251752663074\n",
      "0.3890093099729276\n",
      "0.3379802127014195\n",
      "0.41765761760238773\n",
      "0.37259552912848015\n",
      "0.3855358399355331\n",
      "0.41664984868236055\n",
      "0.4687239713787661\n",
      "0.4612947492770794\n",
      "0.3710626988511715\n",
      "0.3650601787985772\n",
      "0.3265460044523086\n",
      "0.4695044448977613\n",
      "0.34607196104853566\n",
      "0.3959970448988945\n",
      "0.3493086110083959\n",
      "0.27177498069101874\n",
      "0.2960381514771047\n",
      "0.35489250738429207\n",
      "0.298479226684961\n",
      "0.35835601159225955\n",
      "0.49630966969211804\n",
      "0.42441570096816017\n",
      "0.3290891310597151\n",
      "0.3421939737765582\n",
      "0.3418621709378954\n",
      "0.3154902050583936\n",
      "0.39971237712807306\n",
      "0.3228620121024045\n",
      "0.4540808546552375\n",
      "0.5499121974109966\n",
      "0.3411467674046134\n",
      "0.28394749314238865\n",
      "0.3603604580807919\n",
      "0.3917608011927844\n",
      "0.35352784642352564\n",
      "0.43232582514781515\n",
      "0.30051819098546756\n",
      "0.36326408871273214\n",
      "0.4052887041371411\n",
      "0.33015148508237346\n",
      "0.3097593517812241\n",
      "0.3009315838115025\n",
      "0.4609410674601217\n",
      "0.44763315174323753\n",
      "0.2616449766256872\n",
      "0.3646329530190339\n",
      "0.2965973098071579\n",
      "0.3691340811480032\n",
      "0.39299629452774076\n",
      "0.2039422706542714\n",
      "0.35574550823052176\n",
      "0.3537605285687434\n",
      "0.3219270305044665\n",
      "0.33037527038128617\n",
      "0.2528327376463584\n",
      "0.4457833198690479\n",
      "0.4016914693714886\n",
      "0.3124827970523739\n",
      "0.27007103265887633\n",
      "0.34887182727562666 0.06293915971979513\n"
     ]
    }
   ],
   "source": [
    "from random_cluster_population import *\n",
    "from density_models import *\n",
    "%pylab\n",
    "from star_cluster import StarCluster\n",
    "from filterlists import * \n",
    "#ML_age, ML = np.loadtxt(\"Bruzual_Charlot_2003_ML_vs_Age.csv\").T\n",
    "\n",
    "slopes = []\n",
    "for i in range(100):\n",
    "    masses, ages, gammas = random_cluster_population(100,Mmin=5e3)\n",
    "\n",
    "    r50s = []\n",
    "    for mass, age, gamma in zip(masses,ages,gammas):\n",
    "        numstars = int(mass/0.5+0.5)\n",
    "        #gamma = 2.5\n",
    "        sc = StarCluster(num_stars=numstars, scale_radius=(mass/1e4)**(1./3)/model_r50(gamma,1.,'EFF'), shape=gamma, background=1e-1,model='EFF')\n",
    "        r50s.append(sc.measure_r50(count_photons=True,age=age))\n",
    "    cut = np.isfinite(r50s) * (np.array(r50s)<100) * (np.array(r50s) > 0.1)\n",
    "    #print(cut.sum())\n",
    "    slopes.append(np.polyfit(np.log10(masses)[cut],np.log10(r50s)[cut],1)[0])\n",
    "    print(slopes[-1])\n",
    "print(np.median(slopes),np.std(slopes))"
   ]
  },
  {
   "cell_type": "code",
   "execution_count": 27,
   "metadata": {},
   "outputs": [
    {
     "data": {
      "text/plain": [
       "array([ 0.40310303, -1.62910375])"
      ]
     },
     "execution_count": 27,
     "metadata": {},
     "output_type": "execute_result"
    }
   ],
   "source": [
    "#plt.loglog(masses,r50s,'.')\n",
    "cut = np.isfinite(np.array(r50s)) * (np.array(r50s)<100) * (np.array(r50s) > 0.1)\n",
    "np.polyfit(np.log10(masses)[cut],np.log10(r50s)[cut],1)"
   ]
  },
  {
   "cell_type": "code",
   "execution_count": 4,
   "metadata": {},
   "outputs": [
    {
     "ename": "NameError",
     "evalue": "name 'filt' is not defined",
     "output_type": "error",
     "traceback": [
      "\u001b[0;31m---------------------------------------------------------------------------\u001b[0m",
      "\u001b[0;31mNameError\u001b[0m                                 Traceback (most recent call last)",
      "Cell \u001b[0;32mIn[4], line 3\u001b[0m\n\u001b[1;32m      1\u001b[0m \u001b[39mimport\u001b[39;00m \u001b[39mpickle\u001b[39;00m\n\u001b[1;32m      2\u001b[0m filt, track, grids \u001b[39m=\u001b[39m pickle\u001b[39m.\u001b[39mload(\n\u001b[0;32m----> 3\u001b[0m     \u001b[39mopen\u001b[39m(\u001b[39mf\u001b[39m\u001b[39m\"\u001b[39m\u001b[39mlumgrids/mass_lum_grid_\u001b[39m\u001b[39m{\u001b[39;00mfilt\u001b[39m}\u001b[39;00m\u001b[39m_\u001b[39m\u001b[39m{\u001b[39;00mtrack\u001b[39m}\u001b[39;00m\u001b[39m.dump\u001b[39m\u001b[39m\"\u001b[39m, \u001b[39m\"\u001b[39m\u001b[39mrb\u001b[39m\u001b[39m\"\u001b[39m)\n\u001b[1;32m      4\u001b[0m )\n\u001b[1;32m      5\u001b[0m mgrid, Lgrid \u001b[39m=\u001b[39m grids[age_yr]\n\u001b[1;32m      6\u001b[0m logmgrid \u001b[39m=\u001b[39m np\u001b[39m.\u001b[39mlog10(mgrid)\n",
      "\u001b[0;31mNameError\u001b[0m: name 'filt' is not defined"
     ]
    }
   ],
   "source": [
    "import pickle\n",
    "f\n",
    "filt, track, grids = pickle.load(\n",
    "    open(f\"lumgrids/mass_lum_grid_{filt}_{track}.dump\", \"rb\")\n",
    ")\n",
    "mgrid, Lgrid = grids[age_yr]\n",
    "logmgrid = np.log10(mgrid)\n",
    "logLgrid = np.log10(Lgrid)\n",
    "mmax = mgrid[np.isfinite(logLgrid)].max()"
   ]
  },
  {
   "cell_type": "code",
   "execution_count": 5,
   "metadata": {},
   "outputs": [
    {
     "data": {
      "text/plain": [
       "100000"
      ]
     },
     "execution_count": 5,
     "metadata": {},
     "output_type": "execute_result"
    }
   ],
   "source": [
    "sc.num_stars"
   ]
  },
  {
   "cell_type": "code",
   "execution_count": null,
   "metadata": {},
   "outputs": [],
   "source": []
  }
 ],
 "metadata": {
  "kernelspec": {
   "display_name": "2023.2.0",
   "language": "python",
   "name": "python3"
  },
  "language_info": {
   "codemirror_mode": {
    "name": "ipython",
    "version": 3
   },
   "file_extension": ".py",
   "mimetype": "text/x-python",
   "name": "python",
   "nbconvert_exporter": "python",
   "pygments_lexer": "ipython3",
   "version": "3.9.16"
  }
 },
 "nbformat": 4,
 "nbformat_minor": 2
}
