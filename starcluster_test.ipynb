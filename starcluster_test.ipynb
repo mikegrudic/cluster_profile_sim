{
 "cells": [
  {
   "cell_type": "code",
   "execution_count": 31,
   "metadata": {},
   "outputs": [
    {
     "name": "stdout",
     "output_type": "stream",
     "text": [
      "Using matplotlib backend: TkAgg\n",
      "%pylab is deprecated, use %matplotlib inline and import the required libraries.\n",
      "Populating the interactive namespace from numpy and matplotlib\n"
     ]
    },
    {
     "name": "stderr",
     "output_type": "stream",
     "text": [
      "/home/mike/code/cluster_profile_sim/lossfuncs.py:45: RuntimeWarning: invalid value encountered in true_divide\n",
      "  mu\n",
      "/home/mike/code/cluster_profile_sim/density_models.py:65: RuntimeWarning: overflow encountered in double_scalars\n",
      "  return np.sqrt(2 ** (2 / (gamma - 2)) - 1) * scale_radius\n",
      "/home/mike/code/cluster_profile_sim/star_cluster.py:299: OptimizeWarning: Initial guess is not within the specified bounds\n",
      "  sol = minimize(\n"
     ]
    }
   ],
   "source": [
    "%pylab\n",
    "from star_cluster import StarCluster\n",
    "from filterlists import * \n",
    "#from slugpy.cluster_slug import cluster_slug\n",
    "\n",
    "#cs = cluster_slug(use_nebular=False,photsystem=\"Vega\",libname=\"CLUSTERSLUG_MW\")\n",
    "#cs.add_filters(messa_m51_filters)\n",
    "\n",
    "for i in range(10):\n",
    "    sc = StarCluster(10**4,model=\"EFF\",background=1e-2,rmax=30,scale_radius=1.0,shape=2.5)\n",
    "    plt.plot(np.linspace(6,9,101),[sc.measure_r50(count_photons=True,age=a,method='poisson') for a in np.logspace(6,9,101)]); plt.yscale('log')\n",
    "#phot = sc.get_photometry(3e8,[\"ACS_F555W\"])\n",
    "#plt.scatter(np.log10(sc.masses),phot[:,0])\n",
    "#plt.scatter(np.log10(sc.masses),phot[:,1])\n",
    "#phot = sc.get_photometry(1e7)\n",
    "#plt.plot(np.log10(np.sort(sc.masses)), phot[sc.masses.argsort()])\n",
    "#sc.measure_bayesian(1e6,\"Mass\",cs=cs)\n",
    "\n",
    "#rc, rb = sc.get_all_radii()\n",
    "#sc.get_background_radii(),sc.get_cluster_radii()\n",
    "#%timeit sc.fit_density_profile() #full_output=True)\n",
    "\n"
   ]
  },
  {
   "cell_type": "code",
   "execution_count": 35,
   "metadata": {},
   "outputs": [
    {
     "name": "stdout",
     "output_type": "stream",
     "text": [
      "Using matplotlib backend: TkAgg\n",
      "%pylab is deprecated, use %matplotlib inline and import the required libraries.\n",
      "Populating the interactive namespace from numpy and matplotlib\n"
     ]
    },
    {
     "name": "stderr",
     "output_type": "stream",
     "text": [
      "/home/mike/intel/oneapi/intelpython/latest/lib/python3.9/site-packages/IPython/core/magics/pylab.py:162: UserWarning: pylab import has clobbered these variables: ['vectorize', 'gamma']\n",
      "`%matplotlib` prevents importing * from pylab and numpy\n",
      "  warn(\"pylab import has clobbered these variables: %s\"  % clobbered +\n",
      "/home/mike/code/cluster_profile_sim/lossfuncs.py:45: RuntimeWarning: invalid value encountered in true_divide\n",
      "  mu\n",
      "/home/mike/code/cluster_profile_sim/density_models.py:65: RuntimeWarning: overflow encountered in double_scalars\n",
      "  return np.sqrt(2 ** (2 / (gamma - 2)) - 1) * scale_radius\n",
      "/home/mike/code/cluster_profile_sim/star_cluster.py:300: OptimizeWarning: Initial guess is not within the specified bounds\n",
      "  sol = minimize(\n"
     ]
    }
   ],
   "source": [
    "from random_cluster_population import *\n",
    "from density_models import *\n",
    "%pylab\n",
    "from star_cluster import StarCluster\n",
    "from filterlists import * \n",
    "\n",
    "slopes = []\n",
    "for i in range(100):\n",
    "    masses, ages, gammas = random_cluster_population(100,Mmin=5e3)\n",
    "\n",
    "    r50s = []\n",
    "    for mass, age, gamma in zip(masses,ages,gammas):\n",
    "        numstars = int(mass/0.5+0.5)\n",
    "        #gamma = 2.5\n",
    "        sc = StarCluster(num_stars=numstars, scale_radius=(mass/1e4)**(1./3)/model_r50(gamma,1.,'EFF'), shape=gamma, background=1e-2,model='EFF')\n",
    "        r50s.append(sc.measure_r50(count_photons=True,age=age))\n",
    "    cut = np.isfinite(r50s) * (np.array(r50s)<100) * (np.array(r50s) > 0.1)\n",
    "    #print(cut.sum())\n",
    "    slopes.append(np.polyfit(np.log10(masses)[cut],np.log10(r50s)[cut],1)[1])\n",
    "print(np.median(slopes),np.std(slopes))"
   ]
  },
  {
   "cell_type": "code",
   "execution_count": 27,
   "metadata": {},
   "outputs": [
    {
     "data": {
      "text/plain": [
       "array([ 0.40310303, -1.62910375])"
      ]
     },
     "execution_count": 27,
     "metadata": {},
     "output_type": "execute_result"
    }
   ],
   "source": [
    "#plt.loglog(masses,r50s,'.')\n",
    "cut = np.isfinite(np.array(r50s)) * (np.array(r50s)<100) * (np.array(r50s) > 0.1)\n",
    "np.polyfit(np.log10(masses)[cut],np.log10(r50s)[cut],1)"
   ]
  },
  {
   "cell_type": "code",
   "execution_count": 4,
   "metadata": {},
   "outputs": [
    {
     "ename": "NameError",
     "evalue": "name 'filt' is not defined",
     "output_type": "error",
     "traceback": [
      "\u001b[0;31m---------------------------------------------------------------------------\u001b[0m",
      "\u001b[0;31mNameError\u001b[0m                                 Traceback (most recent call last)",
      "Cell \u001b[0;32mIn[4], line 3\u001b[0m\n\u001b[1;32m      1\u001b[0m \u001b[39mimport\u001b[39;00m \u001b[39mpickle\u001b[39;00m\n\u001b[1;32m      2\u001b[0m filt, track, grids \u001b[39m=\u001b[39m pickle\u001b[39m.\u001b[39mload(\n\u001b[0;32m----> 3\u001b[0m     \u001b[39mopen\u001b[39m(\u001b[39mf\u001b[39m\u001b[39m\"\u001b[39m\u001b[39mlumgrids/mass_lum_grid_\u001b[39m\u001b[39m{\u001b[39;00mfilt\u001b[39m}\u001b[39;00m\u001b[39m_\u001b[39m\u001b[39m{\u001b[39;00mtrack\u001b[39m}\u001b[39;00m\u001b[39m.dump\u001b[39m\u001b[39m\"\u001b[39m, \u001b[39m\"\u001b[39m\u001b[39mrb\u001b[39m\u001b[39m\"\u001b[39m)\n\u001b[1;32m      4\u001b[0m )\n\u001b[1;32m      5\u001b[0m mgrid, Lgrid \u001b[39m=\u001b[39m grids[age_yr]\n\u001b[1;32m      6\u001b[0m logmgrid \u001b[39m=\u001b[39m np\u001b[39m.\u001b[39mlog10(mgrid)\n",
      "\u001b[0;31mNameError\u001b[0m: name 'filt' is not defined"
     ]
    }
   ],
   "source": [
    "import pickle\n",
    "f\n",
    "filt, track, grids = pickle.load(\n",
    "    open(f\"lumgrids/mass_lum_grid_{filt}_{track}.dump\", \"rb\")\n",
    ")\n",
    "mgrid, Lgrid = grids[age_yr]\n",
    "logmgrid = np.log10(mgrid)\n",
    "logLgrid = np.log10(Lgrid)\n",
    "mmax = mgrid[np.isfinite(logLgrid)].max()"
   ]
  },
  {
   "cell_type": "code",
   "execution_count": 5,
   "metadata": {},
   "outputs": [
    {
     "data": {
      "text/plain": [
       "100000"
      ]
     },
     "execution_count": 5,
     "metadata": {},
     "output_type": "execute_result"
    }
   ],
   "source": [
    "sc.num_stars"
   ]
  },
  {
   "cell_type": "code",
   "execution_count": null,
   "metadata": {},
   "outputs": [],
   "source": []
  }
 ],
 "metadata": {
  "kernelspec": {
   "display_name": "2023.2.0",
   "language": "python",
   "name": "python3"
  },
  "language_info": {
   "codemirror_mode": {
    "name": "ipython",
    "version": 3
   },
   "file_extension": ".py",
   "mimetype": "text/x-python",
   "name": "python",
   "nbconvert_exporter": "python",
   "pygments_lexer": "ipython3",
   "version": "3.9.16"
  }
 },
 "nbformat": 4,
 "nbformat_minor": 2
}
