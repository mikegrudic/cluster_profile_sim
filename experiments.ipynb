{
 "cells": [
  {
   "cell_type": "code",
   "execution_count": 5,
   "metadata": {},
   "outputs": [],
   "source": [
    "#%pylab\n",
    "import numpy as np\n",
    "from matplotlib import pyplot as plt\n",
    "from scipy.integrate import cumtrapz\n",
    "import matplotlib.pyplot as plt\n",
    "from multiprocessing import Pool\n",
    "from scipy.optimize import minimize\n",
    "from numba import njit\n",
    "from scipy.stats import poisson\n",
    "from os.path import isfile\n",
    "\n",
    "def inference_experiment(gamma=2.5, background=1e-1, aperture=30, N50=100,res=0.1):\n",
    "    radii = generate_radii(gamma,background,aperture,N50,1.)\n",
    "    rbins = np.linspace(0,aperture,int(aperture/res))\n",
    "    N = np.histogram(radii,rbins)[0]\n",
    "    mu0_est = 3/(np.pi*radii[2]**2)\n",
    "    p0 = (np.log10(mu0_est),np.log10(background*mu0_est), 0., gamma)\n",
    "    for i in range(100):\n",
    "        sol = minimize(lossfunc, np.array(p0) + 0.1*np.random.rand(),args=(rbins,N),method='Nelder-Mead',bounds=[(-10,10),(-10,10),(-10,10),(0,10)],tol=1e-6)\n",
    "        if sol.success: \n",
    "            #if(i>0): print(i)\n",
    "            break\n",
    "\n",
    "    if sol.success:    \n",
    "        return sol.x[2:]\n",
    "    else:\n",
    "        return [np.nan, np.nan]\n",
    "\n",
    "def generate_radii(gamma=2.5, background=1e-1, Rmax=100, N50=100,a=1):\n",
    "    np.random.seed()\n",
    "    r = np.logspace(-2,np.log10(Rmax),1000)\n",
    "    norm = 2*np.pi/(gamma - 2)\n",
    "    r50 = (2**(2/(gamma-2))-1)**0.5 \n",
    "    sigma = norm * (1 + r**2)**(-gamma/2)\n",
    "    ecdf = cumtrapz(2*np.pi*r*(sigma + background), r,initial=0);\n",
    "    ecdf /= ecdf.max()\n",
    "    frac_within_r50 = np.interp(r50,r,ecdf)\n",
    "    sample_size = round(N50/frac_within_r50)\n",
    "    samples = np.interp(np.sort(np.random.rand(sample_size)), ecdf, r)\n",
    "    return np.sort(samples)*a\n",
    "\n",
    "def lossfunc(x,rbins,bincounts):\n",
    "    logmu0, logbackground, loga, gam = x\n",
    "    mu, bg, a = 10**logmu0, 10**logbackground, 10**loga\n",
    "    cumcounts_avg = 2*a**gam*np.pi*(a**(2-gam) - (a**2 + rbins**2)**(1-gam/2))* mu  / (gam-2) + np.pi*rbins**2*bg\n",
    "    expected_counts = np.diff(cumcounts_avg)\n",
    "    prob = poisson.logpmf(bincounts, expected_counts).sum()\n",
    "    return -prob\n"
   ]
  },
  {
   "cell_type": "code",
   "execution_count": 6,
   "metadata": {},
   "outputs": [
    {
     "name": "stdout",
     "output_type": "stream",
     "text": [
      "Fiducial\n"
     ]
    },
    {
     "ename": "KeyboardInterrupt",
     "evalue": "",
     "output_type": "error",
     "traceback": [
      "\u001b[0;31m---------------------------------------------------------------------------\u001b[0m",
      "\u001b[0;31mKeyboardInterrupt\u001b[0m                         Traceback (most recent call last)",
      "Cell \u001b[0;32mIn[6], line 33\u001b[0m\n\u001b[1;32m     31\u001b[0m     \u001b[39mif\u001b[39;00m \u001b[39mlen\u001b[39m(np\u001b[39m.\u001b[39mload(path)) \u001b[39m==\u001b[39m Nsamples: \u001b[39mcontinue\u001b[39;00m    \n\u001b[1;32m     32\u001b[0m \u001b[39mwith\u001b[39;00m Pool(\u001b[39m15\u001b[39m) \u001b[39mas\u001b[39;00m pool:\n\u001b[0;32m---> 33\u001b[0m     result \u001b[39m=\u001b[39m np\u001b[39m.\u001b[39marray(pool\u001b[39m.\u001b[39;49mstarmap(inference_experiment, Nsamples\u001b[39m*\u001b[39;49m[p]))\n\u001b[1;32m     34\u001b[0m np\u001b[39m.\u001b[39msave(path, result)\n",
      "File \u001b[0;32m~/intel/oneapi/intelpython/latest/lib/python3.9/multiprocessing/pool.py:372\u001b[0m, in \u001b[0;36mPool.starmap\u001b[0;34m(self, func, iterable, chunksize)\u001b[0m\n\u001b[1;32m    366\u001b[0m \u001b[39mdef\u001b[39;00m \u001b[39mstarmap\u001b[39m(\u001b[39mself\u001b[39m, func, iterable, chunksize\u001b[39m=\u001b[39m\u001b[39mNone\u001b[39;00m):\n\u001b[1;32m    367\u001b[0m \u001b[39m    \u001b[39m\u001b[39m'''\u001b[39;00m\n\u001b[1;32m    368\u001b[0m \u001b[39m    Like `map()` method but the elements of the `iterable` are expected to\u001b[39;00m\n\u001b[1;32m    369\u001b[0m \u001b[39m    be iterables as well and will be unpacked as arguments. Hence\u001b[39;00m\n\u001b[1;32m    370\u001b[0m \u001b[39m    `func` and (a, b) becomes func(a, b).\u001b[39;00m\n\u001b[1;32m    371\u001b[0m \u001b[39m    '''\u001b[39;00m\n\u001b[0;32m--> 372\u001b[0m     \u001b[39mreturn\u001b[39;00m \u001b[39mself\u001b[39;49m\u001b[39m.\u001b[39;49m_map_async(func, iterable, starmapstar, chunksize)\u001b[39m.\u001b[39;49mget()\n",
      "File \u001b[0;32m~/intel/oneapi/intelpython/latest/lib/python3.9/multiprocessing/pool.py:765\u001b[0m, in \u001b[0;36mApplyResult.get\u001b[0;34m(self, timeout)\u001b[0m\n\u001b[1;32m    764\u001b[0m \u001b[39mdef\u001b[39;00m \u001b[39mget\u001b[39m(\u001b[39mself\u001b[39m, timeout\u001b[39m=\u001b[39m\u001b[39mNone\u001b[39;00m):\n\u001b[0;32m--> 765\u001b[0m     \u001b[39mself\u001b[39;49m\u001b[39m.\u001b[39;49mwait(timeout)\n\u001b[1;32m    766\u001b[0m     \u001b[39mif\u001b[39;00m \u001b[39mnot\u001b[39;00m \u001b[39mself\u001b[39m\u001b[39m.\u001b[39mready():\n\u001b[1;32m    767\u001b[0m         \u001b[39mraise\u001b[39;00m \u001b[39mTimeoutError\u001b[39;00m\n",
      "File \u001b[0;32m~/intel/oneapi/intelpython/latest/lib/python3.9/multiprocessing/pool.py:762\u001b[0m, in \u001b[0;36mApplyResult.wait\u001b[0;34m(self, timeout)\u001b[0m\n\u001b[1;32m    761\u001b[0m \u001b[39mdef\u001b[39;00m \u001b[39mwait\u001b[39m(\u001b[39mself\u001b[39m, timeout\u001b[39m=\u001b[39m\u001b[39mNone\u001b[39;00m):\n\u001b[0;32m--> 762\u001b[0m     \u001b[39mself\u001b[39;49m\u001b[39m.\u001b[39;49m_event\u001b[39m.\u001b[39;49mwait(timeout)\n",
      "File \u001b[0;32m~/intel/oneapi/intelpython/latest/lib/python3.9/threading.py:581\u001b[0m, in \u001b[0;36mEvent.wait\u001b[0;34m(self, timeout)\u001b[0m\n\u001b[1;32m    579\u001b[0m signaled \u001b[39m=\u001b[39m \u001b[39mself\u001b[39m\u001b[39m.\u001b[39m_flag\n\u001b[1;32m    580\u001b[0m \u001b[39mif\u001b[39;00m \u001b[39mnot\u001b[39;00m signaled:\n\u001b[0;32m--> 581\u001b[0m     signaled \u001b[39m=\u001b[39m \u001b[39mself\u001b[39;49m\u001b[39m.\u001b[39;49m_cond\u001b[39m.\u001b[39;49mwait(timeout)\n\u001b[1;32m    582\u001b[0m \u001b[39mreturn\u001b[39;00m signaled\n",
      "File \u001b[0;32m~/intel/oneapi/intelpython/latest/lib/python3.9/threading.py:312\u001b[0m, in \u001b[0;36mCondition.wait\u001b[0;34m(self, timeout)\u001b[0m\n\u001b[1;32m    310\u001b[0m \u001b[39mtry\u001b[39;00m:    \u001b[39m# restore state no matter what (e.g., KeyboardInterrupt)\u001b[39;00m\n\u001b[1;32m    311\u001b[0m     \u001b[39mif\u001b[39;00m timeout \u001b[39mis\u001b[39;00m \u001b[39mNone\u001b[39;00m:\n\u001b[0;32m--> 312\u001b[0m         waiter\u001b[39m.\u001b[39;49macquire()\n\u001b[1;32m    313\u001b[0m         gotit \u001b[39m=\u001b[39m \u001b[39mTrue\u001b[39;00m\n\u001b[1;32m    314\u001b[0m     \u001b[39melse\u001b[39;00m:\n",
      "\u001b[0;31mKeyboardInterrupt\u001b[0m: "
     ]
    }
   ],
   "source": [
    "from multiprocessing import Pool\n",
    "Nsamples = 10**4\n",
    "\n",
    "params = {\n",
    "    \"Fiducial\": [2.5,1e-1,10,10**3,0.1],\n",
    "    r\"$10^4$ stars\" : [2.5,1e-1,10,10**4,0.1],\n",
    "    r\"$3\\times10^3$ stars\" : [2.5,1e-1,10,3*10**3,0.1],\n",
    "    r\"$3\\times10^2$ stars\" : [2.5,1e-1,10,3*10**2,0.1],\n",
    "    r\"$30$ stars\" : [2.5,1e-1,10,30,0.1],\n",
    "    r\"$10^2$ stars\": [2.5,1e-1,10,10**2,0.1],\n",
    "    r\"Aperture $100a$\": [2.5,1e-1,100,10**3,0.1],\n",
    "    r\"Aperture $30a$\": [2.5,1e-1,30,10**3,0.1],\n",
    "    r\"Aperture $3a$\": [2.5,1e-1,3,10**3,0.1],\n",
    "    r\"$\\gamma=2.1$\": [2.1,1e-1,10,10**3,0.1],\n",
    "    r\"$\\gamma=2.3$\": [2.3,1e-1,10,10**3,0.1],\n",
    "    r\"$\\gamma=3$\": [3.,1e-1,10,10**3,0.1],\n",
    "    r\"$\\gamma=4$\": [4.,1e-1,10,10**3,0.1],\n",
    "    r\"Resolution $0.01a$\": [2.5,1e-1,10,10**3,0.01],\n",
    "    r\"Resolution $1a$\":[2.5,0.1,10,10**3,1.],\n",
    "    r\"Contrast 1\": [2.5,1.,10,10**3,0.1],\n",
    "    r\"Contrast 100\": [2.5,0.01,10,10**3,0.1],\n",
    "    r\"Resolution $10a$\": [2.5,1e-1,10,10**3,10],\n",
    "}\n",
    "\n",
    "\n",
    "for label, p in params.items():\n",
    "    #if p[3] > 100: continue\n",
    "    print(label)\n",
    "    path = f\"r50_samples_{str(hash(label))}.npy\"\n",
    "    if isfile(path):\n",
    "        if len(np.load(path)) == Nsamples: continue    \n",
    "    with Pool(15) as pool:\n",
    "        result = np.array(pool.starmap(inference_experiment, Nsamples*[p]))\n",
    "    np.save(path, result)"
   ]
  },
  {
   "cell_type": "code",
   "execution_count": 2,
   "metadata": {},
   "outputs": [
    {
     "ename": "NameError",
     "evalue": "name 'params' is not defined",
     "output_type": "error",
     "traceback": [
      "\u001b[0;31m---------------------------------------------------------------------------\u001b[0m",
      "\u001b[0;31mNameError\u001b[0m                                 Traceback (most recent call last)",
      "Cell \u001b[0;32mIn[2], line 1\u001b[0m\n\u001b[0;32m----> 1\u001b[0m \u001b[39mfor\u001b[39;00m label, p \u001b[39min\u001b[39;00m params\u001b[39m.\u001b[39mitems():\n\u001b[1;32m      2\u001b[0m     \u001b[39m#if not ((\"Aperture\" in label) or (\"Fiducial\" in label)): continue\u001b[39;00m\n\u001b[1;32m      3\u001b[0m     \u001b[39mif\u001b[39;00m \u001b[39mnot\u001b[39;00m ((\u001b[39m\"\u001b[39m\u001b[39mgamma\u001b[39m\u001b[39m\"\u001b[39m \u001b[39min\u001b[39;00m label) \u001b[39mor\u001b[39;00m (\u001b[39m\"\u001b[39m\u001b[39mFiducial\u001b[39m\u001b[39m\"\u001b[39m \u001b[39min\u001b[39;00m label)): \u001b[39mcontinue\u001b[39;00m\n\u001b[1;32m      4\u001b[0m     \u001b[39mprint\u001b[39m(label)\n",
      "\u001b[0;31mNameError\u001b[0m: name 'params' is not defined"
     ]
    }
   ],
   "source": [
    "for label, p in params.items():\n",
    "    #if not ((\"Aperture\" in label) or (\"Fiducial\" in label)): continue\n",
    "    if not ((\"gamma\" in label) or (\"Fiducial\" in label)): continue\n",
    "    print(label)\n",
    "    path = f\"r50_samples_{str(hash(label))}.npy\"\n",
    "    r50_0 = (2**(2/(p[0]-2))-1)**0.5\n",
    "    \n",
    "    if isfile(path):\n",
    "        result = np.load(path)\n",
    "        r50 = 10**result[:,0] * np.sqrt(2**(2/(np.array(result[:,1])-2))-1)\n",
    "        #print(label, np.isnan(r50).sum(),(result[:,1]<2).sum())\n",
    "        r50[np.isnan(r50)] = np.inf\n",
    "        plt.ecdf(np.log10(r50/r50_0).clip(-2,10),label=label);# plt.yscale('log')\n",
    "\n",
    "    plt.xlim(-1,1)\n",
    "    plt.legend()\n",
    "    #break"
   ]
  },
  {
   "cell_type": "code",
   "execution_count": 70,
   "metadata": {},
   "outputs": [
    {
     "data": {
      "text/plain": [
       "0.3670643787658501"
      ]
     },
     "execution_count": 70,
     "metadata": {},
     "output_type": "execute_result"
    }
   ],
   "source": [
    "np.std(np.log10(r50[result[:,1]>2.1]))"
   ]
  },
  {
   "cell_type": "code",
   "execution_count": 30,
   "metadata": {},
   "outputs": [
    {
     "ename": "NameError",
     "evalue": "name 'default_params' is not defined",
     "output_type": "error",
     "traceback": [
      "\u001b[0;31m---------------------------------------------------------------------------\u001b[0m",
      "\u001b[0;31mNameError\u001b[0m                                 Traceback (most recent call last)",
      "Cell \u001b[0;32mIn[30], line 3\u001b[0m\n\u001b[1;32m      1\u001b[0m result \u001b[39m=\u001b[39m np\u001b[39m.\u001b[39marray(result)\n\u001b[1;32m      2\u001b[0m r50 \u001b[39m=\u001b[39m \u001b[39m10\u001b[39m\u001b[39m*\u001b[39m\u001b[39m*\u001b[39mresult[:,\u001b[39m0\u001b[39m] \u001b[39m*\u001b[39m np\u001b[39m.\u001b[39msqrt(\u001b[39m2\u001b[39m\u001b[39m*\u001b[39m\u001b[39m*\u001b[39m(\u001b[39m2\u001b[39m\u001b[39m/\u001b[39m(np\u001b[39m.\u001b[39marray(result[:,\u001b[39m1\u001b[39m])\u001b[39m-\u001b[39m\u001b[39m2\u001b[39m))\u001b[39m-\u001b[39m\u001b[39m1\u001b[39m)\n\u001b[0;32m----> 3\u001b[0m r50_0 \u001b[39m=\u001b[39m (\u001b[39m2\u001b[39m\u001b[39m*\u001b[39m\u001b[39m*\u001b[39m(\u001b[39m2\u001b[39m\u001b[39m/\u001b[39m(default_params[\u001b[39m0\u001b[39m]\u001b[39m-\u001b[39m\u001b[39m2\u001b[39m))\u001b[39m-\u001b[39m\u001b[39m1\u001b[39m)\u001b[39m*\u001b[39m\u001b[39m*\u001b[39m\u001b[39m0.5\u001b[39m\n\u001b[1;32m      4\u001b[0m plt\u001b[39m.\u001b[39mhist((r50\u001b[39m/\u001b[39mr50_0),\u001b[39m100\u001b[39m)\n",
      "\u001b[0;31mNameError\u001b[0m: name 'default_params' is not defined"
     ]
    }
   ],
   "source": [
    "result = np.array(result)\n",
    "r50 = 10**result[:,0] * np.sqrt(2**(2/(np.array(result[:,1])-2))-1)\n",
    "r50_0 = (2**(2/(default_params[0]-2))-1)**0.5\n",
    "plt.hist((r50/r50_0),100)"
   ]
  },
  {
   "cell_type": "code",
   "execution_count": 4,
   "metadata": {},
   "outputs": [],
   "source": [
    "#np.max(10**result[:,0]*np.sqrt(2**(2/(np.array(result[:,1])-2))-1)/(2**(2/(2.5-2))-1)**0.5)\n",
    "plt.show()"
   ]
  },
  {
   "cell_type": "code",
   "execution_count": 5,
   "metadata": {},
   "outputs": [
    {
     "data": {
      "text/plain": [
       "array([1.0293141 , 0.91322961, 0.96702703, ..., 1.04533659, 1.00717767,\n",
       "       0.9054228 ])"
      ]
     },
     "execution_count": 5,
     "metadata": {},
     "output_type": "execute_result"
    }
   ],
   "source": [
    "(r50/r50_0)"
   ]
  },
  {
   "cell_type": "code",
   "execution_count": 49,
   "metadata": {},
   "outputs": [
    {
     "name": "stdout",
     "output_type": "stream",
     "text": [
      "2093.074018083576\n",
      "2.5 2.952574685026501\n"
     ]
    },
    {
     "name": "stdout",
     "output_type": "stream",
     "text": [
      "Timer unit: 1e-09 s\n",
      "\n",
      "Total time: 0.0451768 s\n",
      "File: /tmp/ipykernel_24507/3469436785.py\n",
      "Function: lossfunc at line 34\n",
      "\n",
      "Line #      Hits         Time  Per Hit   % Time  Line Contents\n",
      "==============================================================\n",
      "    34                                           def lossfunc(x,rbins,bincounts):\n",
      "    35       272     694987.0   2555.1      1.5      logmu0, logbackground, loga, gam = x\n",
      "    36       272     421873.0   1551.0      0.9      mu, bg, a = 10**logmu0, 10**logbackground, 10**loga\n",
      "    37       272   10836445.0  39839.9     24.0      cumcounts_avg = 2*a**gam*np.pi*(a**(2-gam) - (a**2 + rbins**2)**(1-gam/2))* mu  / (gam-2) + np.pi*rbins**2*bg\n",
      "    38       272    2744743.0  10091.0      6.1      expected_counts = np.diff(cumcounts_avg)\n",
      "    39       272   30379007.0 111687.5     67.2      prob = poisson.logpmf(bincounts, expected_counts).sum()\n",
      "    40       272      99762.0    366.8      0.2      return -prob"
     ]
    }
   ],
   "source": [
    "%lprun -f lossfunc inference_experiment()"
   ]
  },
  {
   "cell_type": "code",
   "execution_count": null,
   "metadata": {},
   "outputs": [],
   "source": []
  }
 ],
 "metadata": {
  "kernelspec": {
   "display_name": "base",
   "language": "python",
   "name": "python3"
  },
  "language_info": {
   "codemirror_mode": {
    "name": "ipython",
    "version": 3
   },
   "file_extension": ".py",
   "mimetype": "text/x-python",
   "name": "python",
   "nbconvert_exporter": "python",
   "pygments_lexer": "ipython3",
   "version": "3.9.16"
  },
  "orig_nbformat": 4
 },
 "nbformat": 4,
 "nbformat_minor": 2
}
