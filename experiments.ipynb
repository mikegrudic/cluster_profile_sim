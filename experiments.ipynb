{
 "cells": [
  {
   "cell_type": "code",
   "execution_count": 104,
   "metadata": {},
   "outputs": [
    {
     "name": "stdout",
     "output_type": "stream",
     "text": [
      "Using matplotlib backend: TkAgg\n",
      "%pylab is deprecated, use %matplotlib inline and import the required libraries.\n",
      "Populating the interactive namespace from numpy and matplotlib\n"
     ]
    },
    {
     "name": "stderr",
     "output_type": "stream",
     "text": [
      "/home/mike/intel/oneapi/intelpython/latest/lib/python3.9/site-packages/IPython/core/magics/pylab.py:162: UserWarning: pylab import has clobbered these variables: ['poisson']\n",
      "`%matplotlib` prevents importing * from pylab and numpy\n",
      "  warn(\"pylab import has clobbered these variables: %s\"  % clobbered +\n"
     ]
    }
   ],
   "source": [
    "%pylab\n",
    "from scipy.integrate import cumtrapz\n",
    "#from bokeh.models import Range1d\n",
    "import matplotlib.pyplot as plt\n",
    "import emcee\n",
    "from multiprocessing import Pool\n",
    "from scipy.optimize import minimize\n",
    "from numba import njit\n",
    "from scipy.stats import poisson\n",
    "\n",
    "def inference_experiment(gamma=2.5, background=1e-1, aperture=30, N50=100,res=0.1):\n",
    "    radii = generate_radii(gamma,background,aperture,N50,1.)\n",
    "    rbins = np.linspace(0,aperture,int(aperture/res))\n",
    "    N = np.histogram(radii,rbins)[0]\n",
    "    p0 = (np.log10(2*(radii<1).sum()/(np.pi)),np.log10(N[-1]/np.diff(np.pi*rbins**2)[-1]), 0., gamma)\n",
    "    #print(lossfunc(p0,rbins,N))\n",
    "    #success = False\n",
    "    sol = minimize(lossfunc, np.array(p0)+1e-4,args=(rbins,N),method='Nelder-Mead')\n",
    "    if sol.success:    \n",
    "        return sol.x[2:]# - np.array(p0)\n",
    "    else:\n",
    "        return [np.nan, np.nan]\n",
    "\n",
    "\n",
    "def generate_radii(gamma=2.5, background=1e-1, Rmax=100, N50=100,a=1):\n",
    "    r = np.logspace(-2,np.log10(Rmax),1000)\n",
    "    norm = 2*np.pi/(gamma - 2)\n",
    "    #cdf = 1 - (1 + r**2)**(1-gamma/2) \n",
    "    r50 = (2**(2/(gamma-2))-1)**0.5 \n",
    "    sigma = norm * (1 + r**2)**(-gamma/2)\n",
    "    ecdf = cumtrapz(2*np.pi*r*(sigma + background), r,initial=0);\n",
    "    ecdf /= ecdf.max()\n",
    "    frac_within_r50 = np.interp(r50,r,ecdf)\n",
    "    sample_size = round(N50/frac_within_r50)\n",
    "    samples = np.interp(np.sort(np.random.rand(sample_size)), ecdf, r)\n",
    "    return samples*a\n",
    "\n",
    "def lossfunc(x,rbins,bincounts):\n",
    "    logmu0, logbackground, loga, gam = x\n",
    "    mu, bg, a = 10**logmu0, 10**logbackground, 10**loga\n",
    "    cumcounts_avg = 2*a**gam*np.pi*(a**(2-gam) - (a**2 + rbins**2)**(1-gam/2))* mu  / (gam-2) + np.pi*rbins**2*bg\n",
    "    expected_counts = np.diff(cumcounts_avg)\n",
    "    prob = poisson.logpmf(bincounts, expected_counts).sum()\n",
    "    return -prob\n",
    "\n",
    "#def fit_profile"
   ]
  },
  {
   "cell_type": "code",
   "execution_count": 96,
   "metadata": {},
   "outputs": [
    {
     "data": {
      "text/plain": [
       "2.6645595769200794"
      ]
     },
     "execution_count": 96,
     "metadata": {},
     "output_type": "execute_result"
    }
   ],
   "source": [
    "inference_experiment()"
   ]
  },
  {
   "cell_type": "code",
   "execution_count": 105,
   "metadata": {},
   "outputs": [
    {
     "name": "stderr",
     "output_type": "stream",
     "text": [
      "/tmp/ipykernel_125568/3410372765.py:15: RuntimeWarning: divide by zero encountered in log10\n",
      "  p0 = (np.log10(2*(radii<1).sum()/(np.pi)),np.log10(N[-1]/np.diff(np.pi*rbins**2)[-1]), 0., gamma)\n",
      "/home/mike/intel/oneapi/intelpython/latest/lib/python3.9/site-packages/scipy/optimize/_optimize.py:862: RuntimeWarning: invalid value encountered in subtract\n",
      "  if (np.max(np.ravel(np.abs(sim[1:] - sim[0]))) <= xatol and\n",
      "/home/mike/intel/oneapi/intelpython/latest/lib/python3.9/site-packages/scipy/optimize/_optimize.py:867: RuntimeWarning: invalid value encountered in subtract\n",
      "  xr = (1 + rho) * xbar - rho * sim[-1]\n",
      "/tmp/ipykernel_125568/3410372765.py:15: RuntimeWarning: divide by zero encountered in log10\n",
      "  p0 = (np.log10(2*(radii<1).sum()/(np.pi)),np.log10(N[-1]/np.diff(np.pi*rbins**2)[-1]), 0., gamma)\n",
      "/home/mike/intel/oneapi/intelpython/latest/lib/python3.9/site-packages/scipy/optimize/_optimize.py:862: RuntimeWarning: invalid value encountered in subtract\n",
      "  if (np.max(np.ravel(np.abs(sim[1:] - sim[0]))) <= xatol and\n",
      "/home/mike/intel/oneapi/intelpython/latest/lib/python3.9/site-packages/scipy/optimize/_optimize.py:867: RuntimeWarning: invalid value encountered in subtract\n",
      "  xr = (1 + rho) * xbar - rho * sim[-1]\n",
      "/tmp/ipykernel_125568/3410372765.py:15: RuntimeWarning: divide by zero encountered in log10\n",
      "  p0 = (np.log10(2*(radii<1).sum()/(np.pi)),np.log10(N[-1]/np.diff(np.pi*rbins**2)[-1]), 0., gamma)\n",
      "/home/mike/intel/oneapi/intelpython/latest/lib/python3.9/site-packages/scipy/optimize/_optimize.py:862: RuntimeWarning: invalid value encountered in subtract\n",
      "  if (np.max(np.ravel(np.abs(sim[1:] - sim[0]))) <= xatol and\n",
      "/home/mike/intel/oneapi/intelpython/latest/lib/python3.9/site-packages/scipy/optimize/_optimize.py:867: RuntimeWarning: invalid value encountered in subtract\n",
      "  xr = (1 + rho) * xbar - rho * sim[-1]\n",
      "/tmp/ipykernel_125568/3410372765.py:15: RuntimeWarning: divide by zero encountered in log10\n",
      "  p0 = (np.log10(2*(radii<1).sum()/(np.pi)),np.log10(N[-1]/np.diff(np.pi*rbins**2)[-1]), 0., gamma)\n",
      "/tmp/ipykernel_125568/3410372765.py:15: RuntimeWarning: divide by zero encountered in log10\n",
      "  p0 = (np.log10(2*(radii<1).sum()/(np.pi)),np.log10(N[-1]/np.diff(np.pi*rbins**2)[-1]), 0., gamma)\n",
      "/tmp/ipykernel_125568/3410372765.py:15: RuntimeWarning: divide by zero encountered in log10\n",
      "  p0 = (np.log10(2*(radii<1).sum()/(np.pi)),np.log10(N[-1]/np.diff(np.pi*rbins**2)[-1]), 0., gamma)\n",
      "/home/mike/intel/oneapi/intelpython/latest/lib/python3.9/site-packages/scipy/optimize/_optimize.py:862: RuntimeWarning: invalid value encountered in subtract\n",
      "  if (np.max(np.ravel(np.abs(sim[1:] - sim[0]))) <= xatol and\n",
      "/home/mike/intel/oneapi/intelpython/latest/lib/python3.9/site-packages/scipy/optimize/_optimize.py:862: RuntimeWarning: invalid value encountered in subtract\n",
      "  if (np.max(np.ravel(np.abs(sim[1:] - sim[0]))) <= xatol and\n",
      "/home/mike/intel/oneapi/intelpython/latest/lib/python3.9/site-packages/scipy/optimize/_optimize.py:867: RuntimeWarning: invalid value encountered in subtract\n",
      "  xr = (1 + rho) * xbar - rho * sim[-1]\n",
      "/home/mike/intel/oneapi/intelpython/latest/lib/python3.9/site-packages/scipy/optimize/_optimize.py:867: RuntimeWarning: invalid value encountered in subtract\n",
      "  xr = (1 + rho) * xbar - rho * sim[-1]\n",
      "/tmp/ipykernel_125568/3410372765.py:15: RuntimeWarning: divide by zero encountered in log10\n",
      "  p0 = (np.log10(2*(radii<1).sum()/(np.pi)),np.log10(N[-1]/np.diff(np.pi*rbins**2)[-1]), 0., gamma)\n",
      "/home/mike/intel/oneapi/intelpython/latest/lib/python3.9/site-packages/scipy/optimize/_optimize.py:862: RuntimeWarning: invalid value encountered in subtract\n",
      "  if (np.max(np.ravel(np.abs(sim[1:] - sim[0]))) <= xatol and\n",
      "/home/mike/intel/oneapi/intelpython/latest/lib/python3.9/site-packages/scipy/optimize/_optimize.py:862: RuntimeWarning: invalid value encountered in subtract\n",
      "  if (np.max(np.ravel(np.abs(sim[1:] - sim[0]))) <= xatol and\n",
      "/tmp/ipykernel_125568/3410372765.py:15: RuntimeWarning: divide by zero encountered in log10\n",
      "  p0 = (np.log10(2*(radii<1).sum()/(np.pi)),np.log10(N[-1]/np.diff(np.pi*rbins**2)[-1]), 0., gamma)\n",
      "/home/mike/intel/oneapi/intelpython/latest/lib/python3.9/site-packages/scipy/optimize/_optimize.py:867: RuntimeWarning: invalid value encountered in subtract\n",
      "  xr = (1 + rho) * xbar - rho * sim[-1]\n",
      "/home/mike/intel/oneapi/intelpython/latest/lib/python3.9/site-packages/scipy/optimize/_optimize.py:867: RuntimeWarning: invalid value encountered in subtract\n",
      "  xr = (1 + rho) * xbar - rho * sim[-1]\n",
      "/tmp/ipykernel_125568/3410372765.py:15: RuntimeWarning: divide by zero encountered in log10\n",
      "  p0 = (np.log10(2*(radii<1).sum()/(np.pi)),np.log10(N[-1]/np.diff(np.pi*rbins**2)[-1]), 0., gamma)\n",
      "/home/mike/intel/oneapi/intelpython/latest/lib/python3.9/site-packages/scipy/optimize/_optimize.py:862: RuntimeWarning: invalid value encountered in subtract\n",
      "  if (np.max(np.ravel(np.abs(sim[1:] - sim[0]))) <= xatol and\n",
      "/home/mike/intel/oneapi/intelpython/latest/lib/python3.9/site-packages/scipy/optimize/_optimize.py:862: RuntimeWarning: invalid value encountered in subtract\n",
      "  if (np.max(np.ravel(np.abs(sim[1:] - sim[0]))) <= xatol and\n",
      "/tmp/ipykernel_125568/3410372765.py:15: RuntimeWarning: divide by zero encountered in log10\n",
      "  p0 = (np.log10(2*(radii<1).sum()/(np.pi)),np.log10(N[-1]/np.diff(np.pi*rbins**2)[-1]), 0., gamma)\n",
      "/home/mike/intel/oneapi/intelpython/latest/lib/python3.9/site-packages/scipy/optimize/_optimize.py:862: RuntimeWarning: invalid value encountered in subtract\n",
      "  if (np.max(np.ravel(np.abs(sim[1:] - sim[0]))) <= xatol and\n",
      "/home/mike/intel/oneapi/intelpython/latest/lib/python3.9/site-packages/scipy/optimize/_optimize.py:867: RuntimeWarning: invalid value encountered in subtract\n",
      "  xr = (1 + rho) * xbar - rho * sim[-1]\n",
      "/home/mike/intel/oneapi/intelpython/latest/lib/python3.9/site-packages/scipy/optimize/_optimize.py:867: RuntimeWarning: invalid value encountered in subtract\n",
      "  xr = (1 + rho) * xbar - rho * sim[-1]\n",
      "/tmp/ipykernel_125568/3410372765.py:15: RuntimeWarning: divide by zero encountered in log10\n",
      "  p0 = (np.log10(2*(radii<1).sum()/(np.pi)),np.log10(N[-1]/np.diff(np.pi*rbins**2)[-1]), 0., gamma)\n",
      "/tmp/ipykernel_125568/3410372765.py:15: RuntimeWarning: divide by zero encountered in log10\n",
      "  p0 = (np.log10(2*(radii<1).sum()/(np.pi)),np.log10(N[-1]/np.diff(np.pi*rbins**2)[-1]), 0., gamma)\n",
      "/home/mike/intel/oneapi/intelpython/latest/lib/python3.9/site-packages/scipy/optimize/_optimize.py:867: RuntimeWarning: invalid value encountered in subtract\n",
      "  xr = (1 + rho) * xbar - rho * sim[-1]\n",
      "/tmp/ipykernel_125568/3410372765.py:15: RuntimeWarning: divide by zero encountered in log10\n",
      "  p0 = (np.log10(2*(radii<1).sum()/(np.pi)),np.log10(N[-1]/np.diff(np.pi*rbins**2)[-1]), 0., gamma)\n",
      "/home/mike/intel/oneapi/intelpython/latest/lib/python3.9/site-packages/scipy/optimize/_optimize.py:862: RuntimeWarning: invalid value encountered in subtract\n",
      "  if (np.max(np.ravel(np.abs(sim[1:] - sim[0]))) <= xatol and\n",
      "/home/mike/intel/oneapi/intelpython/latest/lib/python3.9/site-packages/scipy/optimize/_optimize.py:862: RuntimeWarning: invalid value encountered in subtract\n",
      "  if (np.max(np.ravel(np.abs(sim[1:] - sim[0]))) <= xatol and\n",
      "/home/mike/intel/oneapi/intelpython/latest/lib/python3.9/site-packages/scipy/optimize/_optimize.py:867: RuntimeWarning: invalid value encountered in subtract\n",
      "  xr = (1 + rho) * xbar - rho * sim[-1]\n",
      "/home/mike/intel/oneapi/intelpython/latest/lib/python3.9/site-packages/scipy/optimize/_optimize.py:862: RuntimeWarning: invalid value encountered in subtract\n",
      "  if (np.max(np.ravel(np.abs(sim[1:] - sim[0]))) <= xatol and\n",
      "/tmp/ipykernel_125568/3410372765.py:15: RuntimeWarning: divide by zero encountered in log10\n",
      "  p0 = (np.log10(2*(radii<1).sum()/(np.pi)),np.log10(N[-1]/np.diff(np.pi*rbins**2)[-1]), 0., gamma)\n",
      "/home/mike/intel/oneapi/intelpython/latest/lib/python3.9/site-packages/scipy/optimize/_optimize.py:862: RuntimeWarning: invalid value encountered in subtract\n",
      "  if (np.max(np.ravel(np.abs(sim[1:] - sim[0]))) <= xatol and\n",
      "/home/mike/intel/oneapi/intelpython/latest/lib/python3.9/site-packages/scipy/optimize/_optimize.py:867: RuntimeWarning: invalid value encountered in subtract\n",
      "  xr = (1 + rho) * xbar - rho * sim[-1]\n",
      "/home/mike/intel/oneapi/intelpython/latest/lib/python3.9/site-packages/scipy/optimize/_optimize.py:867: RuntimeWarning: invalid value encountered in subtract\n",
      "  xr = (1 + rho) * xbar - rho * sim[-1]\n",
      "/tmp/ipykernel_125568/3410372765.py:15: RuntimeWarning: divide by zero encountered in log10\n",
      "  p0 = (np.log10(2*(radii<1).sum()/(np.pi)),np.log10(N[-1]/np.diff(np.pi*rbins**2)[-1]), 0., gamma)\n",
      "/home/mike/intel/oneapi/intelpython/latest/lib/python3.9/site-packages/scipy/optimize/_optimize.py:867: RuntimeWarning: invalid value encountered in subtract\n",
      "  xr = (1 + rho) * xbar - rho * sim[-1]\n",
      "/home/mike/intel/oneapi/intelpython/latest/lib/python3.9/site-packages/scipy/optimize/_optimize.py:862: RuntimeWarning: invalid value encountered in subtract\n",
      "  if (np.max(np.ravel(np.abs(sim[1:] - sim[0]))) <= xatol and\n",
      "/home/mike/intel/oneapi/intelpython/latest/lib/python3.9/site-packages/scipy/optimize/_optimize.py:867: RuntimeWarning: invalid value encountered in subtract\n",
      "  xr = (1 + rho) * xbar - rho * sim[-1]\n"
     ]
    }
   ],
   "source": [
    "from multiprocessing import Pool\n",
    "#for i in range(1000): generate_radii()\n",
    "default_params = [2.5,1e-1,30,10**2,0.1]\n",
    "#result = [inference_experiment(*default_params) for i in range(1000)]\n",
    "with Pool(15) as pool:\n",
    "    result = np.array(pool.starmap(inference_experiment, 10000*[default_params]))\n",
    "#results = []\n",
    "#for i in range(100): results.append(inference_experiment()) #, range(10000))\n",
    "#inference_experiment()"
   ]
  },
  {
   "cell_type": "code",
   "execution_count": 120,
   "metadata": {},
   "outputs": [
    {
     "data": {
      "text/plain": [
       "0.15762468182812053"
      ]
     },
     "execution_count": 120,
     "metadata": {},
     "output_type": "execute_result"
    }
   ],
   "source": [
    "#%ma\n",
    "idx = (~np.any(np.isnan(result),axis=1)) * (result[:,1]>2)\n",
    "result = result[idx]\n",
    "plt.hist(10**result[:,0]*np.sqrt(2**(2/(np.array(result[:,1])-2))-1)/(2**(2/(2.5-2))-1)**0.5,np.linspace(0,10,100))\n",
    "np.mean(np.log10(10**result[:,0]*np.sqrt(2**(2/(np.array(result[:,1])-2))-1)/(2**(2/(2.5-2))-1)**0.5))"
   ]
  },
  {
   "cell_type": "code",
   "execution_count": 114,
   "metadata": {},
   "outputs": [
    {
     "data": {
      "text/plain": [
       "8847"
      ]
     },
     "execution_count": 114,
     "metadata": {},
     "output_type": "execute_result"
    }
   ],
   "source": [
    "#np.max(10**result[:,0]*np.sqrt(2**(2/(np.array(result[:,1])-2))-1)/(2**(2/(2.5-2))-1)**0.5)\n",
    "idx.sum()"
   ]
  },
  {
   "cell_type": "code",
   "execution_count": 117,
   "metadata": {},
   "outputs": [
    {
     "data": {
      "text/plain": [
       "8847"
      ]
     },
     "execution_count": 117,
     "metadata": {},
     "output_type": "execute_result"
    }
   ],
   "source": [
    "len(result)"
   ]
  },
  {
   "cell_type": "code",
   "execution_count": 49,
   "metadata": {},
   "outputs": [
    {
     "name": "stdout",
     "output_type": "stream",
     "text": [
      "2093.074018083576\n",
      "2.5 2.952574685026501\n"
     ]
    },
    {
     "name": "stdout",
     "output_type": "stream",
     "text": [
      "Timer unit: 1e-09 s\n",
      "\n",
      "Total time: 0.0451768 s\n",
      "File: /tmp/ipykernel_24507/3469436785.py\n",
      "Function: lossfunc at line 34\n",
      "\n",
      "Line #      Hits         Time  Per Hit   % Time  Line Contents\n",
      "==============================================================\n",
      "    34                                           def lossfunc(x,rbins,bincounts):\n",
      "    35       272     694987.0   2555.1      1.5      logmu0, logbackground, loga, gam = x\n",
      "    36       272     421873.0   1551.0      0.9      mu, bg, a = 10**logmu0, 10**logbackground, 10**loga\n",
      "    37       272   10836445.0  39839.9     24.0      cumcounts_avg = 2*a**gam*np.pi*(a**(2-gam) - (a**2 + rbins**2)**(1-gam/2))* mu  / (gam-2) + np.pi*rbins**2*bg\n",
      "    38       272    2744743.0  10091.0      6.1      expected_counts = np.diff(cumcounts_avg)\n",
      "    39       272   30379007.0 111687.5     67.2      prob = poisson.logpmf(bincounts, expected_counts).sum()\n",
      "    40       272      99762.0    366.8      0.2      return -prob"
     ]
    }
   ],
   "source": [
    "%lprun -f lossfunc inference_experiment()"
   ]
  },
  {
   "cell_type": "code",
   "execution_count": null,
   "metadata": {},
   "outputs": [],
   "source": []
  }
 ],
 "metadata": {
  "kernelspec": {
   "display_name": "base",
   "language": "python",
   "name": "python3"
  },
  "language_info": {
   "codemirror_mode": {
    "name": "ipython",
    "version": 3
   },
   "file_extension": ".py",
   "mimetype": "text/x-python",
   "name": "python",
   "nbconvert_exporter": "python",
   "pygments_lexer": "ipython3",
   "version": "3.9.16"
  },
  "orig_nbformat": 4
 },
 "nbformat": 4,
 "nbformat_minor": 2
}
